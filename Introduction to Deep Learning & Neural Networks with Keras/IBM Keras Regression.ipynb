{
 "cells": [
  {
   "cell_type": "markdown",
   "id": "44bbe002",
   "metadata": {},
   "source": [
    "# Importing Esssential Libraries"
   ]
  },
  {
   "cell_type": "code",
   "execution_count": 1,
   "id": "8bfcfbc3",
   "metadata": {},
   "outputs": [],
   "source": [
    "import pandas as pd \n",
    "import numpy as np \n",
    "from sklearn.model_selection import train_test_split"
   ]
  },
  {
   "cell_type": "code",
   "execution_count": 2,
   "id": "400d1fa5",
   "metadata": {},
   "outputs": [],
   "source": [
    "df = pd.read_csv(r\"D:\\CSV's\\concrete_data.csv\")"
   ]
  },
  {
   "cell_type": "markdown",
   "id": "9d2709e1",
   "metadata": {},
   "source": [
    "# Data Preprocessing"
   ]
  },
  {
   "cell_type": "code",
   "execution_count": 3,
   "id": "eb1fd05f",
   "metadata": {},
   "outputs": [
    {
     "data": {
      "text/html": [
       "<div>\n",
       "<style scoped>\n",
       "    .dataframe tbody tr th:only-of-type {\n",
       "        vertical-align: middle;\n",
       "    }\n",
       "\n",
       "    .dataframe tbody tr th {\n",
       "        vertical-align: top;\n",
       "    }\n",
       "\n",
       "    .dataframe thead th {\n",
       "        text-align: right;\n",
       "    }\n",
       "</style>\n",
       "<table border=\"1\" class=\"dataframe\">\n",
       "  <thead>\n",
       "    <tr style=\"text-align: right;\">\n",
       "      <th></th>\n",
       "      <th>Cement</th>\n",
       "      <th>Blast Furnace Slag</th>\n",
       "      <th>Fly Ash</th>\n",
       "      <th>Water</th>\n",
       "      <th>Superplasticizer</th>\n",
       "      <th>Coarse Aggregate</th>\n",
       "      <th>Fine Aggregate</th>\n",
       "      <th>Age</th>\n",
       "      <th>Strength</th>\n",
       "    </tr>\n",
       "  </thead>\n",
       "  <tbody>\n",
       "    <tr>\n",
       "      <th>0</th>\n",
       "      <td>540.0</td>\n",
       "      <td>0.0</td>\n",
       "      <td>0.0</td>\n",
       "      <td>162.0</td>\n",
       "      <td>2.5</td>\n",
       "      <td>1040.0</td>\n",
       "      <td>676.0</td>\n",
       "      <td>28</td>\n",
       "      <td>79.99</td>\n",
       "    </tr>\n",
       "    <tr>\n",
       "      <th>1</th>\n",
       "      <td>540.0</td>\n",
       "      <td>0.0</td>\n",
       "      <td>0.0</td>\n",
       "      <td>162.0</td>\n",
       "      <td>2.5</td>\n",
       "      <td>1055.0</td>\n",
       "      <td>676.0</td>\n",
       "      <td>28</td>\n",
       "      <td>61.89</td>\n",
       "    </tr>\n",
       "    <tr>\n",
       "      <th>2</th>\n",
       "      <td>332.5</td>\n",
       "      <td>142.5</td>\n",
       "      <td>0.0</td>\n",
       "      <td>228.0</td>\n",
       "      <td>0.0</td>\n",
       "      <td>932.0</td>\n",
       "      <td>594.0</td>\n",
       "      <td>270</td>\n",
       "      <td>40.27</td>\n",
       "    </tr>\n",
       "    <tr>\n",
       "      <th>3</th>\n",
       "      <td>332.5</td>\n",
       "      <td>142.5</td>\n",
       "      <td>0.0</td>\n",
       "      <td>228.0</td>\n",
       "      <td>0.0</td>\n",
       "      <td>932.0</td>\n",
       "      <td>594.0</td>\n",
       "      <td>365</td>\n",
       "      <td>41.05</td>\n",
       "    </tr>\n",
       "    <tr>\n",
       "      <th>4</th>\n",
       "      <td>198.6</td>\n",
       "      <td>132.4</td>\n",
       "      <td>0.0</td>\n",
       "      <td>192.0</td>\n",
       "      <td>0.0</td>\n",
       "      <td>978.4</td>\n",
       "      <td>825.5</td>\n",
       "      <td>360</td>\n",
       "      <td>44.30</td>\n",
       "    </tr>\n",
       "  </tbody>\n",
       "</table>\n",
       "</div>"
      ],
      "text/plain": [
       "   Cement  Blast Furnace Slag  Fly Ash  Water  Superplasticizer  \\\n",
       "0   540.0                 0.0      0.0  162.0               2.5   \n",
       "1   540.0                 0.0      0.0  162.0               2.5   \n",
       "2   332.5               142.5      0.0  228.0               0.0   \n",
       "3   332.5               142.5      0.0  228.0               0.0   \n",
       "4   198.6               132.4      0.0  192.0               0.0   \n",
       "\n",
       "   Coarse Aggregate  Fine Aggregate  Age  Strength  \n",
       "0            1040.0           676.0   28     79.99  \n",
       "1            1055.0           676.0   28     61.89  \n",
       "2             932.0           594.0  270     40.27  \n",
       "3             932.0           594.0  365     41.05  \n",
       "4             978.4           825.5  360     44.30  "
      ]
     },
     "execution_count": 3,
     "metadata": {},
     "output_type": "execute_result"
    }
   ],
   "source": [
    "df.head()"
   ]
  },
  {
   "cell_type": "code",
   "execution_count": 4,
   "id": "aa5a0f1a",
   "metadata": {},
   "outputs": [
    {
     "data": {
      "text/plain": [
       "Cement                0\n",
       "Blast Furnace Slag    0\n",
       "Fly Ash               0\n",
       "Water                 0\n",
       "Superplasticizer      0\n",
       "Coarse Aggregate      0\n",
       "Fine Aggregate        0\n",
       "Age                   0\n",
       "Strength              0\n",
       "dtype: int64"
      ]
     },
     "execution_count": 4,
     "metadata": {},
     "output_type": "execute_result"
    }
   ],
   "source": [
    "df.isnull().sum()"
   ]
  },
  {
   "cell_type": "code",
   "execution_count": 5,
   "id": "e4f968d7",
   "metadata": {},
   "outputs": [
    {
     "data": {
      "text/html": [
       "<div>\n",
       "<style scoped>\n",
       "    .dataframe tbody tr th:only-of-type {\n",
       "        vertical-align: middle;\n",
       "    }\n",
       "\n",
       "    .dataframe tbody tr th {\n",
       "        vertical-align: top;\n",
       "    }\n",
       "\n",
       "    .dataframe thead th {\n",
       "        text-align: right;\n",
       "    }\n",
       "</style>\n",
       "<table border=\"1\" class=\"dataframe\">\n",
       "  <thead>\n",
       "    <tr style=\"text-align: right;\">\n",
       "      <th></th>\n",
       "      <th>Cement</th>\n",
       "      <th>Blast Furnace Slag</th>\n",
       "      <th>Fly Ash</th>\n",
       "      <th>Water</th>\n",
       "      <th>Superplasticizer</th>\n",
       "      <th>Coarse Aggregate</th>\n",
       "      <th>Fine Aggregate</th>\n",
       "      <th>Age</th>\n",
       "      <th>Strength</th>\n",
       "    </tr>\n",
       "  </thead>\n",
       "  <tbody>\n",
       "    <tr>\n",
       "      <th>count</th>\n",
       "      <td>1030.000000</td>\n",
       "      <td>1030.000000</td>\n",
       "      <td>1030.000000</td>\n",
       "      <td>1030.000000</td>\n",
       "      <td>1030.000000</td>\n",
       "      <td>1030.000000</td>\n",
       "      <td>1030.000000</td>\n",
       "      <td>1030.000000</td>\n",
       "      <td>1030.000000</td>\n",
       "    </tr>\n",
       "    <tr>\n",
       "      <th>mean</th>\n",
       "      <td>281.167864</td>\n",
       "      <td>73.895825</td>\n",
       "      <td>54.188350</td>\n",
       "      <td>181.567282</td>\n",
       "      <td>6.204660</td>\n",
       "      <td>972.918932</td>\n",
       "      <td>773.580485</td>\n",
       "      <td>45.662136</td>\n",
       "      <td>35.817961</td>\n",
       "    </tr>\n",
       "    <tr>\n",
       "      <th>std</th>\n",
       "      <td>104.506364</td>\n",
       "      <td>86.279342</td>\n",
       "      <td>63.997004</td>\n",
       "      <td>21.354219</td>\n",
       "      <td>5.973841</td>\n",
       "      <td>77.753954</td>\n",
       "      <td>80.175980</td>\n",
       "      <td>63.169912</td>\n",
       "      <td>16.705742</td>\n",
       "    </tr>\n",
       "    <tr>\n",
       "      <th>min</th>\n",
       "      <td>102.000000</td>\n",
       "      <td>0.000000</td>\n",
       "      <td>0.000000</td>\n",
       "      <td>121.800000</td>\n",
       "      <td>0.000000</td>\n",
       "      <td>801.000000</td>\n",
       "      <td>594.000000</td>\n",
       "      <td>1.000000</td>\n",
       "      <td>2.330000</td>\n",
       "    </tr>\n",
       "    <tr>\n",
       "      <th>25%</th>\n",
       "      <td>192.375000</td>\n",
       "      <td>0.000000</td>\n",
       "      <td>0.000000</td>\n",
       "      <td>164.900000</td>\n",
       "      <td>0.000000</td>\n",
       "      <td>932.000000</td>\n",
       "      <td>730.950000</td>\n",
       "      <td>7.000000</td>\n",
       "      <td>23.710000</td>\n",
       "    </tr>\n",
       "    <tr>\n",
       "      <th>50%</th>\n",
       "      <td>272.900000</td>\n",
       "      <td>22.000000</td>\n",
       "      <td>0.000000</td>\n",
       "      <td>185.000000</td>\n",
       "      <td>6.400000</td>\n",
       "      <td>968.000000</td>\n",
       "      <td>779.500000</td>\n",
       "      <td>28.000000</td>\n",
       "      <td>34.445000</td>\n",
       "    </tr>\n",
       "    <tr>\n",
       "      <th>75%</th>\n",
       "      <td>350.000000</td>\n",
       "      <td>142.950000</td>\n",
       "      <td>118.300000</td>\n",
       "      <td>192.000000</td>\n",
       "      <td>10.200000</td>\n",
       "      <td>1029.400000</td>\n",
       "      <td>824.000000</td>\n",
       "      <td>56.000000</td>\n",
       "      <td>46.135000</td>\n",
       "    </tr>\n",
       "    <tr>\n",
       "      <th>max</th>\n",
       "      <td>540.000000</td>\n",
       "      <td>359.400000</td>\n",
       "      <td>200.100000</td>\n",
       "      <td>247.000000</td>\n",
       "      <td>32.200000</td>\n",
       "      <td>1145.000000</td>\n",
       "      <td>992.600000</td>\n",
       "      <td>365.000000</td>\n",
       "      <td>82.600000</td>\n",
       "    </tr>\n",
       "  </tbody>\n",
       "</table>\n",
       "</div>"
      ],
      "text/plain": [
       "            Cement  Blast Furnace Slag      Fly Ash        Water  \\\n",
       "count  1030.000000         1030.000000  1030.000000  1030.000000   \n",
       "mean    281.167864           73.895825    54.188350   181.567282   \n",
       "std     104.506364           86.279342    63.997004    21.354219   \n",
       "min     102.000000            0.000000     0.000000   121.800000   \n",
       "25%     192.375000            0.000000     0.000000   164.900000   \n",
       "50%     272.900000           22.000000     0.000000   185.000000   \n",
       "75%     350.000000          142.950000   118.300000   192.000000   \n",
       "max     540.000000          359.400000   200.100000   247.000000   \n",
       "\n",
       "       Superplasticizer  Coarse Aggregate  Fine Aggregate          Age  \\\n",
       "count       1030.000000       1030.000000     1030.000000  1030.000000   \n",
       "mean           6.204660        972.918932      773.580485    45.662136   \n",
       "std            5.973841         77.753954       80.175980    63.169912   \n",
       "min            0.000000        801.000000      594.000000     1.000000   \n",
       "25%            0.000000        932.000000      730.950000     7.000000   \n",
       "50%            6.400000        968.000000      779.500000    28.000000   \n",
       "75%           10.200000       1029.400000      824.000000    56.000000   \n",
       "max           32.200000       1145.000000      992.600000   365.000000   \n",
       "\n",
       "          Strength  \n",
       "count  1030.000000  \n",
       "mean     35.817961  \n",
       "std      16.705742  \n",
       "min       2.330000  \n",
       "25%      23.710000  \n",
       "50%      34.445000  \n",
       "75%      46.135000  \n",
       "max      82.600000  "
      ]
     },
     "execution_count": 5,
     "metadata": {},
     "output_type": "execute_result"
    }
   ],
   "source": [
    "df.describe()"
   ]
  },
  {
   "cell_type": "code",
   "execution_count": 6,
   "id": "63843637",
   "metadata": {},
   "outputs": [
    {
     "data": {
      "text/plain": [
       "(1030, 9)"
      ]
     },
     "execution_count": 6,
     "metadata": {},
     "output_type": "execute_result"
    }
   ],
   "source": [
    "df.shape\n"
   ]
  },
  {
   "cell_type": "code",
   "execution_count": 7,
   "id": "b5145071",
   "metadata": {},
   "outputs": [
    {
     "data": {
      "text/plain": [
       "Index(['Cement', 'Blast Furnace Slag', 'Fly Ash', 'Water', 'Superplasticizer',\n",
       "       'Coarse Aggregate', 'Fine Aggregate', 'Age', 'Strength'],\n",
       "      dtype='object')"
      ]
     },
     "execution_count": 7,
     "metadata": {},
     "output_type": "execute_result"
    }
   ],
   "source": [
    "df.columns"
   ]
  },
  {
   "cell_type": "code",
   "execution_count": 8,
   "id": "0481bcf6",
   "metadata": {},
   "outputs": [],
   "source": [
    "columns = df.columns"
   ]
  },
  {
   "cell_type": "markdown",
   "id": "277fab65",
   "metadata": {},
   "source": [
    "# Split Data into predictors and target"
   ]
  },
  {
   "cell_type": "code",
   "execution_count": 9,
   "id": "f709f2cc",
   "metadata": {},
   "outputs": [],
   "source": [
    "predictors = df[columns[columns != \"Strength\"]]\n",
    "target = df[\"Strength\"]"
   ]
  },
  {
   "cell_type": "code",
   "execution_count": 10,
   "id": "ef69f893",
   "metadata": {},
   "outputs": [
    {
     "data": {
      "text/html": [
       "<div>\n",
       "<style scoped>\n",
       "    .dataframe tbody tr th:only-of-type {\n",
       "        vertical-align: middle;\n",
       "    }\n",
       "\n",
       "    .dataframe tbody tr th {\n",
       "        vertical-align: top;\n",
       "    }\n",
       "\n",
       "    .dataframe thead th {\n",
       "        text-align: right;\n",
       "    }\n",
       "</style>\n",
       "<table border=\"1\" class=\"dataframe\">\n",
       "  <thead>\n",
       "    <tr style=\"text-align: right;\">\n",
       "      <th></th>\n",
       "      <th>Cement</th>\n",
       "      <th>Blast Furnace Slag</th>\n",
       "      <th>Fly Ash</th>\n",
       "      <th>Water</th>\n",
       "      <th>Superplasticizer</th>\n",
       "      <th>Coarse Aggregate</th>\n",
       "      <th>Fine Aggregate</th>\n",
       "      <th>Age</th>\n",
       "    </tr>\n",
       "  </thead>\n",
       "  <tbody>\n",
       "    <tr>\n",
       "      <th>0</th>\n",
       "      <td>540.0</td>\n",
       "      <td>0.0</td>\n",
       "      <td>0.0</td>\n",
       "      <td>162.0</td>\n",
       "      <td>2.5</td>\n",
       "      <td>1040.0</td>\n",
       "      <td>676.0</td>\n",
       "      <td>28</td>\n",
       "    </tr>\n",
       "    <tr>\n",
       "      <th>1</th>\n",
       "      <td>540.0</td>\n",
       "      <td>0.0</td>\n",
       "      <td>0.0</td>\n",
       "      <td>162.0</td>\n",
       "      <td>2.5</td>\n",
       "      <td>1055.0</td>\n",
       "      <td>676.0</td>\n",
       "      <td>28</td>\n",
       "    </tr>\n",
       "    <tr>\n",
       "      <th>2</th>\n",
       "      <td>332.5</td>\n",
       "      <td>142.5</td>\n",
       "      <td>0.0</td>\n",
       "      <td>228.0</td>\n",
       "      <td>0.0</td>\n",
       "      <td>932.0</td>\n",
       "      <td>594.0</td>\n",
       "      <td>270</td>\n",
       "    </tr>\n",
       "    <tr>\n",
       "      <th>3</th>\n",
       "      <td>332.5</td>\n",
       "      <td>142.5</td>\n",
       "      <td>0.0</td>\n",
       "      <td>228.0</td>\n",
       "      <td>0.0</td>\n",
       "      <td>932.0</td>\n",
       "      <td>594.0</td>\n",
       "      <td>365</td>\n",
       "    </tr>\n",
       "    <tr>\n",
       "      <th>4</th>\n",
       "      <td>198.6</td>\n",
       "      <td>132.4</td>\n",
       "      <td>0.0</td>\n",
       "      <td>192.0</td>\n",
       "      <td>0.0</td>\n",
       "      <td>978.4</td>\n",
       "      <td>825.5</td>\n",
       "      <td>360</td>\n",
       "    </tr>\n",
       "  </tbody>\n",
       "</table>\n",
       "</div>"
      ],
      "text/plain": [
       "   Cement  Blast Furnace Slag  Fly Ash  Water  Superplasticizer  \\\n",
       "0   540.0                 0.0      0.0  162.0               2.5   \n",
       "1   540.0                 0.0      0.0  162.0               2.5   \n",
       "2   332.5               142.5      0.0  228.0               0.0   \n",
       "3   332.5               142.5      0.0  228.0               0.0   \n",
       "4   198.6               132.4      0.0  192.0               0.0   \n",
       "\n",
       "   Coarse Aggregate  Fine Aggregate  Age  \n",
       "0            1040.0           676.0   28  \n",
       "1            1055.0           676.0   28  \n",
       "2             932.0           594.0  270  \n",
       "3             932.0           594.0  365  \n",
       "4             978.4           825.5  360  "
      ]
     },
     "execution_count": 10,
     "metadata": {},
     "output_type": "execute_result"
    }
   ],
   "source": [
    "predictors.head()"
   ]
  },
  {
   "cell_type": "code",
   "execution_count": 11,
   "id": "f28ced52",
   "metadata": {},
   "outputs": [
    {
     "data": {
      "text/plain": [
       "0    79.99\n",
       "1    61.89\n",
       "2    40.27\n",
       "3    41.05\n",
       "4    44.30\n",
       "Name: Strength, dtype: float64"
      ]
     },
     "execution_count": 11,
     "metadata": {},
     "output_type": "execute_result"
    }
   ],
   "source": [
    "target.head()"
   ]
  },
  {
   "cell_type": "code",
   "execution_count": 12,
   "id": "c347f693",
   "metadata": {},
   "outputs": [
    {
     "data": {
      "text/plain": [
       "8"
      ]
     },
     "execution_count": 12,
     "metadata": {},
     "output_type": "execute_result"
    }
   ],
   "source": [
    "n_cols = predictors.shape[1]\n",
    "n_cols"
   ]
  },
  {
   "cell_type": "markdown",
   "id": "f35a36fa",
   "metadata": {},
   "source": [
    "# Splitting Data into Training and Test Sets"
   ]
  },
  {
   "cell_type": "code",
   "execution_count": 13,
   "id": "56d69c24",
   "metadata": {},
   "outputs": [],
   "source": [
    "X_train, X_test, y_train, y_test = train_test_split(predictors, target, test_size= 0.3, random_state= 42)"
   ]
  },
  {
   "cell_type": "markdown",
   "id": "816b0790",
   "metadata": {},
   "source": [
    "# Part A (Model Without Normalizing the data) "
   ]
  },
  {
   "cell_type": "markdown",
   "id": "9c1947f5",
   "metadata": {},
   "source": [
    "# Building a Regression Network"
   ]
  },
  {
   "cell_type": "code",
   "execution_count": 14,
   "id": "29bf7a26",
   "metadata": {},
   "outputs": [],
   "source": [
    "import keras \n"
   ]
  },
  {
   "cell_type": "code",
   "execution_count": 15,
   "id": "37947734",
   "metadata": {},
   "outputs": [],
   "source": [
    "from keras.models import Sequential\n",
    "from keras.layers import Dense"
   ]
  },
  {
   "cell_type": "code",
   "execution_count": 16,
   "id": "1126c3d3",
   "metadata": {},
   "outputs": [],
   "source": [
    "def Regression():\n",
    "    model = Sequential()\n",
    "    model.add(Dense(10, activation= \"relu\", input_shape = (n_cols,)))\n",
    "    model.add(Dense(1))\n",
    "    \n",
    "    model.compile(optimizer = \"adam\",  loss='mean_squared_error')\n",
    "    return model"
   ]
  },
  {
   "cell_type": "code",
   "execution_count": 17,
   "id": "27cf3f21",
   "metadata": {},
   "outputs": [],
   "source": [
    "model = Regression()"
   ]
  },
  {
   "cell_type": "code",
   "execution_count": 18,
   "id": "b0da2580",
   "metadata": {},
   "outputs": [
    {
     "name": "stdout",
     "output_type": "stream",
     "text": [
      "Epoch 1/50\n",
      "16/16 - 1s - loss: 169925.7031 - val_loss: 121644.2188 - 848ms/epoch - 53ms/step\n",
      "Epoch 2/50\n",
      "16/16 - 0s - loss: 88623.2891 - val_loss: 59476.0781 - 77ms/epoch - 5ms/step\n",
      "Epoch 3/50\n",
      "16/16 - 0s - loss: 41009.8438 - val_loss: 25928.4922 - 62ms/epoch - 4ms/step\n",
      "Epoch 4/50\n",
      "16/16 - 0s - loss: 16877.7734 - val_loss: 10284.0518 - 61ms/epoch - 4ms/step\n",
      "Epoch 5/50\n",
      "16/16 - 0s - loss: 6407.8115 - val_loss: 4052.1260 - 70ms/epoch - 4ms/step\n",
      "Epoch 6/50\n",
      "16/16 - 0s - loss: 2607.6130 - val_loss: 2006.0243 - 69ms/epoch - 4ms/step\n",
      "Epoch 7/50\n",
      "16/16 - 0s - loss: 1517.6062 - val_loss: 1452.1857 - 73ms/epoch - 5ms/step\n",
      "Epoch 8/50\n",
      "16/16 - 0s - loss: 1253.9608 - val_loss: 1334.6680 - 59ms/epoch - 4ms/step\n",
      "Epoch 9/50\n",
      "16/16 - 0s - loss: 1211.4038 - val_loss: 1301.0319 - 67ms/epoch - 4ms/step\n",
      "Epoch 10/50\n",
      "16/16 - 0s - loss: 1193.5089 - val_loss: 1283.7811 - 92ms/epoch - 6ms/step\n",
      "Epoch 11/50\n",
      "16/16 - 0s - loss: 1179.9304 - val_loss: 1264.5352 - 63ms/epoch - 4ms/step\n",
      "Epoch 12/50\n",
      "16/16 - 0s - loss: 1164.8514 - val_loss: 1246.0343 - 76ms/epoch - 5ms/step\n",
      "Epoch 13/50\n",
      "16/16 - 0s - loss: 1149.2883 - val_loss: 1228.1981 - 81ms/epoch - 5ms/step\n",
      "Epoch 14/50\n",
      "16/16 - 0s - loss: 1133.3298 - val_loss: 1211.4246 - 68ms/epoch - 4ms/step\n",
      "Epoch 15/50\n",
      "16/16 - 0s - loss: 1118.6459 - val_loss: 1191.1072 - 81ms/epoch - 5ms/step\n",
      "Epoch 16/50\n",
      "16/16 - 0s - loss: 1103.0859 - val_loss: 1173.9972 - 75ms/epoch - 5ms/step\n",
      "Epoch 17/50\n",
      "16/16 - 0s - loss: 1087.7410 - val_loss: 1151.7120 - 61ms/epoch - 4ms/step\n",
      "Epoch 18/50\n",
      "16/16 - 0s - loss: 1070.9736 - val_loss: 1133.2938 - 60ms/epoch - 4ms/step\n",
      "Epoch 19/50\n",
      "16/16 - 0s - loss: 1055.6011 - val_loss: 1115.9330 - 61ms/epoch - 4ms/step\n",
      "Epoch 20/50\n",
      "16/16 - 0s - loss: 1039.8048 - val_loss: 1096.7024 - 78ms/epoch - 5ms/step\n",
      "Epoch 21/50\n",
      "16/16 - 0s - loss: 1024.6670 - val_loss: 1075.5664 - 78ms/epoch - 5ms/step\n",
      "Epoch 22/50\n",
      "16/16 - 0s - loss: 1008.4423 - val_loss: 1058.2390 - 65ms/epoch - 4ms/step\n",
      "Epoch 23/50\n",
      "16/16 - 0s - loss: 992.7260 - val_loss: 1038.3612 - 75ms/epoch - 5ms/step\n",
      "Epoch 24/50\n",
      "16/16 - 0s - loss: 977.3210 - val_loss: 1019.2700 - 81ms/epoch - 5ms/step\n",
      "Epoch 25/50\n",
      "16/16 - 0s - loss: 961.6319 - val_loss: 1002.0109 - 67ms/epoch - 4ms/step\n",
      "Epoch 26/50\n",
      "16/16 - 0s - loss: 946.6613 - val_loss: 985.3148 - 66ms/epoch - 4ms/step\n",
      "Epoch 27/50\n",
      "16/16 - 0s - loss: 932.0567 - val_loss: 968.9033 - 61ms/epoch - 4ms/step\n",
      "Epoch 28/50\n",
      "16/16 - 0s - loss: 917.6920 - val_loss: 950.9841 - 78ms/epoch - 5ms/step\n",
      "Epoch 29/50\n",
      "16/16 - 0s - loss: 902.9136 - val_loss: 932.9647 - 65ms/epoch - 4ms/step\n",
      "Epoch 30/50\n",
      "16/16 - 0s - loss: 889.6747 - val_loss: 914.9344 - 76ms/epoch - 5ms/step\n",
      "Epoch 31/50\n",
      "16/16 - 0s - loss: 875.4032 - val_loss: 899.3519 - 78ms/epoch - 5ms/step\n",
      "Epoch 32/50\n",
      "16/16 - 0s - loss: 862.5815 - val_loss: 879.8196 - 71ms/epoch - 4ms/step\n",
      "Epoch 33/50\n",
      "16/16 - 0s - loss: 848.1680 - val_loss: 868.0894 - 63ms/epoch - 4ms/step\n",
      "Epoch 34/50\n",
      "16/16 - 0s - loss: 834.2551 - val_loss: 853.5097 - 72ms/epoch - 4ms/step\n",
      "Epoch 35/50\n",
      "16/16 - 0s - loss: 821.1622 - val_loss: 834.3409 - 58ms/epoch - 4ms/step\n",
      "Epoch 36/50\n",
      "16/16 - 0s - loss: 808.3174 - val_loss: 820.7616 - 85ms/epoch - 5ms/step\n",
      "Epoch 37/50\n",
      "16/16 - 0s - loss: 795.5181 - val_loss: 807.5031 - 63ms/epoch - 4ms/step\n",
      "Epoch 38/50\n",
      "16/16 - 0s - loss: 782.8314 - val_loss: 792.3741 - 79ms/epoch - 5ms/step\n",
      "Epoch 39/50\n",
      "16/16 - 0s - loss: 769.9536 - val_loss: 779.1631 - 61ms/epoch - 4ms/step\n",
      "Epoch 40/50\n",
      "16/16 - 0s - loss: 760.0689 - val_loss: 762.4163 - 68ms/epoch - 4ms/step\n",
      "Epoch 41/50\n",
      "16/16 - 0s - loss: 747.9783 - val_loss: 752.7575 - 67ms/epoch - 4ms/step\n",
      "Epoch 42/50\n",
      "16/16 - 0s - loss: 735.1100 - val_loss: 737.5151 - 64ms/epoch - 4ms/step\n",
      "Epoch 43/50\n",
      "16/16 - 0s - loss: 723.3491 - val_loss: 724.8170 - 65ms/epoch - 4ms/step\n",
      "Epoch 44/50\n",
      "16/16 - 0s - loss: 713.3808 - val_loss: 712.4434 - 70ms/epoch - 4ms/step\n",
      "Epoch 45/50\n",
      "16/16 - 0s - loss: 703.5019 - val_loss: 702.2468 - 62ms/epoch - 4ms/step\n",
      "Epoch 46/50\n",
      "16/16 - 0s - loss: 691.4257 - val_loss: 686.4466 - 73ms/epoch - 5ms/step\n",
      "Epoch 47/50\n",
      "16/16 - 0s - loss: 680.5598 - val_loss: 674.4492 - 75ms/epoch - 5ms/step\n",
      "Epoch 48/50\n",
      "16/16 - 0s - loss: 671.3577 - val_loss: 666.2373 - 83ms/epoch - 5ms/step\n",
      "Epoch 49/50\n",
      "16/16 - 0s - loss: 661.7968 - val_loss: 651.0294 - 61ms/epoch - 4ms/step\n",
      "Epoch 50/50\n",
      "16/16 - 0s - loss: 650.7090 - val_loss: 642.5859 - 70ms/epoch - 4ms/step\n"
     ]
    },
    {
     "data": {
      "text/plain": [
       "<keras.src.callbacks.History at 0x1e048265750>"
      ]
     },
     "execution_count": 18,
     "metadata": {},
     "output_type": "execute_result"
    }
   ],
   "source": [
    "model.fit(X_train, y_train, validation_split= 0.3, epochs = 50, verbose = 2 )"
   ]
  },
  {
   "cell_type": "code",
   "execution_count": 19,
   "id": "d41c2b33",
   "metadata": {},
   "outputs": [
    {
     "name": "stdout",
     "output_type": "stream",
     "text": [
      "10/10 [==============================] - 0s 2ms/step\n"
     ]
    }
   ],
   "source": [
    "prediction = model.predict(X_test)\n"
   ]
  },
  {
   "cell_type": "code",
   "execution_count": 20,
   "id": "8859b575",
   "metadata": {},
   "outputs": [],
   "source": [
    "from sklearn.metrics import mean_squared_error"
   ]
  },
  {
   "cell_type": "code",
   "execution_count": 21,
   "id": "e19ac251",
   "metadata": {},
   "outputs": [
    {
     "data": {
      "text/plain": [
       "578.7679460843077"
      ]
     },
     "execution_count": 21,
     "metadata": {},
     "output_type": "execute_result"
    }
   ],
   "source": [
    "mse = mean_squared_error(y_test, prediction)\n",
    "mse"
   ]
  },
  {
   "cell_type": "code",
   "execution_count": 22,
   "id": "caf1d075",
   "metadata": {},
   "outputs": [],
   "source": [
    "rmse = np.sqrt(mse)"
   ]
  },
  {
   "cell_type": "code",
   "execution_count": 23,
   "id": "b691616d",
   "metadata": {},
   "outputs": [
    {
     "data": {
      "text/plain": [
       "24.057596431986045"
      ]
     },
     "execution_count": 23,
     "metadata": {},
     "output_type": "execute_result"
    }
   ],
   "source": [
    "rmse"
   ]
  },
  {
   "cell_type": "markdown",
   "id": "a7852dfb",
   "metadata": {},
   "source": [
    "# List of 50 mean squared errors with report of mean and the standard deviation of the mean squared errors."
   ]
  },
  {
   "cell_type": "code",
   "execution_count": 24,
   "id": "ca081b87",
   "metadata": {},
   "outputs": [
    {
     "name": "stdout",
     "output_type": "stream",
     "text": [
      "10/10 [==============================] - 0s 3ms/step\n",
      "MSE 1: 228.5464644457753\n",
      "10/10 [==============================] - 0s 2ms/step\n",
      "MSE 2: 135.18188323910212\n",
      "10/10 [==============================] - 0s 3ms/step\n",
      "MSE 3: 108.54990750680066\n",
      "10/10 [==============================] - 0s 3ms/step\n",
      "MSE 4: 138.12441894819483\n",
      "10/10 [==============================] - 0s 3ms/step\n",
      "MSE 5: 135.09426809302167\n",
      "10/10 [==============================] - 0s 3ms/step\n",
      "MSE 6: 109.75077903146135\n",
      "10/10 [==============================] - 0s 2ms/step\n",
      "MSE 7: 132.30326905307996\n",
      "10/10 [==============================] - 0s 2ms/step\n",
      "MSE 8: 128.9928102584505\n",
      "10/10 [==============================] - 0s 2ms/step\n",
      "MSE 9: 119.98019298451476\n",
      "10/10 [==============================] - 0s 3ms/step\n",
      "MSE 10: 110.44973175069092\n",
      "10/10 [==============================] - 0s 3ms/step\n",
      "MSE 11: 112.98644277043647\n",
      "10/10 [==============================] - 0s 2ms/step\n",
      "MSE 12: 101.07062485273119\n",
      "10/10 [==============================] - 0s 3ms/step\n",
      "MSE 13: 114.84663072649244\n",
      "10/10 [==============================] - 0s 3ms/step\n",
      "MSE 14: 120.50119129765679\n",
      "10/10 [==============================] - 0s 2ms/step\n",
      "MSE 15: 136.3218920043395\n",
      "10/10 [==============================] - 0s 2ms/step\n",
      "MSE 16: 109.31583213006721\n",
      "10/10 [==============================] - 0s 2ms/step\n",
      "MSE 17: 104.81584566267024\n",
      "10/10 [==============================] - 0s 3ms/step\n",
      "MSE 18: 88.10583436876871\n",
      "10/10 [==============================] - 0s 2ms/step\n",
      "MSE 19: 58.939721302193576\n",
      "10/10 [==============================] - 0s 3ms/step\n",
      "MSE 20: 62.90697680510785\n",
      "10/10 [==============================] - 0s 3ms/step\n",
      "MSE 21: 61.6221862281829\n",
      "10/10 [==============================] - 0s 2ms/step\n",
      "MSE 22: 57.718200941422666\n",
      "10/10 [==============================] - 0s 2ms/step\n",
      "MSE 23: 47.68128082201122\n",
      "10/10 [==============================] - 0s 1ms/step\n",
      "MSE 24: 49.69288142842031\n",
      "10/10 [==============================] - 0s 4ms/step\n",
      "MSE 25: 50.11943430606495\n",
      "10/10 [==============================] - 0s 3ms/step\n",
      "MSE 26: 60.13367537045651\n",
      "10/10 [==============================] - 0s 2ms/step\n",
      "MSE 27: 51.98159404499689\n",
      "10/10 [==============================] - 0s 2ms/step\n",
      "MSE 28: 54.39084686186469\n",
      "10/10 [==============================] - 0s 2ms/step\n",
      "MSE 29: 52.74520483973692\n",
      "10/10 [==============================] - 0s 3ms/step\n",
      "MSE 30: 50.43883413860583\n",
      "10/10 [==============================] - 0s 2ms/step\n",
      "MSE 31: 53.46418670778591\n",
      "10/10 [==============================] - 0s 2ms/step\n",
      "MSE 32: 42.71521224596545\n",
      "10/10 [==============================] - 0s 3ms/step\n",
      "MSE 33: 51.083279012656526\n",
      "10/10 [==============================] - 0s 3ms/step\n",
      "MSE 34: 52.48693886672034\n",
      "10/10 [==============================] - 0s 2ms/step\n",
      "MSE 35: 54.047408854624514\n",
      "10/10 [==============================] - 0s 3ms/step\n",
      "MSE 36: 62.34041687331354\n",
      "10/10 [==============================] - 0s 2ms/step\n",
      "MSE 37: 52.59286440336128\n",
      "10/10 [==============================] - 0s 3ms/step\n",
      "MSE 38: 59.032356575801536\n",
      "10/10 [==============================] - 0s 2ms/step\n",
      "MSE 39: 47.159102564248265\n",
      "10/10 [==============================] - 0s 3ms/step\n",
      "MSE 40: 46.93717147841169\n",
      "10/10 [==============================] - 0s 4ms/step\n",
      "MSE 41: 55.34813353334688\n",
      "10/10 [==============================] - 0s 4ms/step\n",
      "MSE 42: 45.886551651772116\n",
      "10/10 [==============================] - 0s 3ms/step\n",
      "MSE 43: 47.938641579185905\n",
      "10/10 [==============================] - 0s 3ms/step\n",
      "MSE 44: 52.250678062528834\n",
      "10/10 [==============================] - 0s 1ms/step\n",
      "MSE 45: 53.32689169596887\n",
      "10/10 [==============================] - 0s 4ms/step\n",
      "MSE 46: 53.62385180261762\n",
      "10/10 [==============================] - 0s 2ms/step\n",
      "MSE 47: 53.08035599686122\n",
      "10/10 [==============================] - 0s 3ms/step\n",
      "MSE 48: 53.378052340824034\n",
      "10/10 [==============================] - 0s 2ms/step\n",
      "MSE 49: 49.91237394437385\n",
      "10/10 [==============================] - 0s 2ms/step\n",
      "MSE 50: 52.57321386759164\n",
      "\n",
      "\n"
     ]
    }
   ],
   "source": [
    "total_mean_squared_errors = 50\n",
    "mean_squared_errors = []\n",
    "for i in range(0, total_mean_squared_errors):\n",
    "    X_train, X_test, y_train, y_test = train_test_split(predictors, target, test_size=0.3, random_state=i)\n",
    "    model.fit(X_train, y_train, epochs=50, verbose=0)\n",
    "    y_pred = model.predict(X_test)\n",
    "    MSE = mean_squared_error(y_test, y_pred)\n",
    "    print(\"MSE \"+str(i+1)+\": \"+str(MSE))\n",
    "    mean_squared_errors.append(MSE)\n",
    "\n",
    "mean_squared_errors = np.array(mean_squared_errors)\n",
    "mean = np.mean(mean_squared_errors)\n",
    "sd = np.std(mean_squared_errors)\n",
    "\n",
    "print('\\n')\n"
   ]
  },
  {
   "cell_type": "code",
   "execution_count": 25,
   "id": "37cc74fe",
   "metadata": {},
   "outputs": [
    {
     "name": "stdout",
     "output_type": "stream",
     "text": [
      "Mean and standard deviation of 50 mean squared errors without normalized data. \n",
      "\n",
      "Mean: 78.64973076542557\n",
      "Standard Deviation: 38.43854379772562\n"
     ]
    }
   ],
   "source": [
    "print(\"Mean and standard deviation of \" +str(total_mean_squared_errors) + \" mean squared errors without normalized data. \\n\")\n",
    "print(\"Mean: \"+str(mean))\n",
    "print(\"Standard Deviation: \"+str(sd))"
   ]
  },
  {
   "cell_type": "markdown",
   "id": "0a565d12",
   "metadata": {},
   "source": [
    "# Part B (Normalize the Data)"
   ]
  },
  {
   "cell_type": "code",
   "execution_count": 26,
   "id": "63a5a793",
   "metadata": {},
   "outputs": [],
   "source": [
    "from sklearn.preprocessing import StandardScaler"
   ]
  },
  {
   "cell_type": "code",
   "execution_count": 27,
   "id": "8737eee4",
   "metadata": {},
   "outputs": [],
   "source": [
    "scaler = StandardScaler()"
   ]
  },
  {
   "cell_type": "code",
   "execution_count": 28,
   "id": "bde8bcd4",
   "metadata": {},
   "outputs": [],
   "source": [
    "pred_norm = scaler.fit_transform(predictors)"
   ]
  },
  {
   "cell_type": "code",
   "execution_count": 29,
   "id": "f410b44c",
   "metadata": {},
   "outputs": [
    {
     "data": {
      "text/plain": [
       "array([[ 2.47791487, -0.85688789, -0.84714393, ...,  0.86315424,\n",
       "        -1.21767004, -0.27973311],\n",
       "       [ 2.47791487, -0.85688789, -0.84714393, ...,  1.05616419,\n",
       "        -1.21767004, -0.27973311],\n",
       "       [ 0.49142531,  0.79552649, -0.84714393, ..., -0.52651741,\n",
       "        -2.24091709,  3.55306569],\n",
       "       ...,\n",
       "       [-1.27008832,  0.75957923,  0.85063487, ..., -1.03606368,\n",
       "         0.0801067 , -0.27973311],\n",
       "       [-1.16860982,  1.30806485, -0.84714393, ...,  0.21464081,\n",
       "         0.19116644, -0.27973311],\n",
       "       [-0.19403325,  0.30849909,  0.3769452 , ..., -1.39506219,\n",
       "        -0.15074782, -0.27973311]])"
      ]
     },
     "execution_count": 29,
     "metadata": {},
     "output_type": "execute_result"
    }
   ],
   "source": [
    "pred_norm"
   ]
  },
  {
   "cell_type": "code",
   "execution_count": 30,
   "id": "e55ab6b0",
   "metadata": {},
   "outputs": [],
   "source": [
    "X_train, X_test, y_train, y_test = train_test_split(pred_norm, target, test_size= 0.3, random_state= 42)"
   ]
  },
  {
   "cell_type": "code",
   "execution_count": 31,
   "id": "9d4e76e6",
   "metadata": {},
   "outputs": [],
   "source": [
    "def Regression():\n",
    "    model = Sequential()\n",
    "    model.add(Dense(10, activation= \"relu\", input_shape = (n_cols,)))\n",
    "    model.add(Dense(1))\n",
    "    \n",
    "    model.compile(optimizer = \"adam\",  loss='mean_squared_error')\n",
    "    return model"
   ]
  },
  {
   "cell_type": "code",
   "execution_count": 32,
   "id": "220e6d3b",
   "metadata": {},
   "outputs": [],
   "source": [
    "model_B = Regression()"
   ]
  },
  {
   "cell_type": "code",
   "execution_count": 33,
   "id": "5272e679",
   "metadata": {},
   "outputs": [
    {
     "name": "stdout",
     "output_type": "stream",
     "text": [
      "Epoch 1/50\n",
      "16/16 - 1s - loss: 1614.1053 - val_loss: 1489.1873 - 621ms/epoch - 39ms/step\n",
      "Epoch 2/50\n",
      "16/16 - 0s - loss: 1601.5629 - val_loss: 1477.8423 - 77ms/epoch - 5ms/step\n",
      "Epoch 3/50\n",
      "16/16 - 0s - loss: 1589.1855 - val_loss: 1466.5785 - 86ms/epoch - 5ms/step\n",
      "Epoch 4/50\n",
      "16/16 - 0s - loss: 1576.7640 - val_loss: 1455.4995 - 69ms/epoch - 4ms/step\n",
      "Epoch 5/50\n",
      "16/16 - 0s - loss: 1564.5448 - val_loss: 1444.3427 - 66ms/epoch - 4ms/step\n",
      "Epoch 6/50\n",
      "16/16 - 0s - loss: 1552.0842 - val_loss: 1433.2705 - 56ms/epoch - 4ms/step\n",
      "Epoch 7/50\n",
      "16/16 - 0s - loss: 1539.7697 - val_loss: 1421.8673 - 84ms/epoch - 5ms/step\n",
      "Epoch 8/50\n",
      "16/16 - 0s - loss: 1527.0380 - val_loss: 1410.4077 - 68ms/epoch - 4ms/step\n",
      "Epoch 9/50\n",
      "16/16 - 0s - loss: 1514.0966 - val_loss: 1398.7502 - 82ms/epoch - 5ms/step\n",
      "Epoch 10/50\n",
      "16/16 - 0s - loss: 1500.9722 - val_loss: 1386.7222 - 72ms/epoch - 4ms/step\n",
      "Epoch 11/50\n",
      "16/16 - 0s - loss: 1487.4911 - val_loss: 1374.4901 - 60ms/epoch - 4ms/step\n",
      "Epoch 12/50\n",
      "16/16 - 0s - loss: 1473.7777 - val_loss: 1361.8140 - 80ms/epoch - 5ms/step\n",
      "Epoch 13/50\n",
      "16/16 - 0s - loss: 1459.1862 - val_loss: 1349.2892 - 68ms/epoch - 4ms/step\n",
      "Epoch 14/50\n",
      "16/16 - 0s - loss: 1444.9307 - val_loss: 1335.9498 - 84ms/epoch - 5ms/step\n",
      "Epoch 15/50\n",
      "16/16 - 0s - loss: 1429.9869 - val_loss: 1322.1947 - 66ms/epoch - 4ms/step\n",
      "Epoch 16/50\n",
      "16/16 - 0s - loss: 1414.6093 - val_loss: 1308.1017 - 76ms/epoch - 5ms/step\n",
      "Epoch 17/50\n",
      "16/16 - 0s - loss: 1398.5269 - val_loss: 1294.0240 - 68ms/epoch - 4ms/step\n",
      "Epoch 18/50\n",
      "16/16 - 0s - loss: 1382.5612 - val_loss: 1279.4092 - 69ms/epoch - 4ms/step\n",
      "Epoch 19/50\n",
      "16/16 - 0s - loss: 1365.8649 - val_loss: 1264.5624 - 68ms/epoch - 4ms/step\n",
      "Epoch 20/50\n",
      "16/16 - 0s - loss: 1349.0389 - val_loss: 1249.1981 - 65ms/epoch - 4ms/step\n",
      "Epoch 21/50\n",
      "16/16 - 0s - loss: 1331.4249 - val_loss: 1233.7437 - 67ms/epoch - 4ms/step\n",
      "Epoch 22/50\n",
      "16/16 - 0s - loss: 1313.8229 - val_loss: 1217.7257 - 76ms/epoch - 5ms/step\n",
      "Epoch 23/50\n",
      "16/16 - 0s - loss: 1296.0558 - val_loss: 1201.1528 - 54ms/epoch - 3ms/step\n",
      "Epoch 24/50\n",
      "16/16 - 0s - loss: 1276.9972 - val_loss: 1184.8945 - 67ms/epoch - 4ms/step\n",
      "Epoch 25/50\n",
      "16/16 - 0s - loss: 1258.5851 - val_loss: 1167.9775 - 74ms/epoch - 5ms/step\n",
      "Epoch 26/50\n",
      "16/16 - 0s - loss: 1239.5249 - val_loss: 1150.5945 - 57ms/epoch - 4ms/step\n",
      "Epoch 27/50\n",
      "16/16 - 0s - loss: 1219.9551 - val_loss: 1133.0602 - 79ms/epoch - 5ms/step\n",
      "Epoch 28/50\n",
      "16/16 - 0s - loss: 1200.0145 - val_loss: 1115.1702 - 66ms/epoch - 4ms/step\n",
      "Epoch 29/50\n",
      "16/16 - 0s - loss: 1179.8239 - val_loss: 1096.8661 - 67ms/epoch - 4ms/step\n",
      "Epoch 30/50\n",
      "16/16 - 0s - loss: 1159.3733 - val_loss: 1078.0211 - 76ms/epoch - 5ms/step\n",
      "Epoch 31/50\n",
      "16/16 - 0s - loss: 1138.2406 - val_loss: 1059.0013 - 57ms/epoch - 4ms/step\n",
      "Epoch 32/50\n",
      "16/16 - 0s - loss: 1117.1185 - val_loss: 1039.5651 - 71ms/epoch - 4ms/step\n",
      "Epoch 33/50\n",
      "16/16 - 0s - loss: 1095.7097 - val_loss: 1019.6210 - 60ms/epoch - 4ms/step\n",
      "Epoch 34/50\n",
      "16/16 - 0s - loss: 1073.6169 - val_loss: 999.8154 - 66ms/epoch - 4ms/step\n",
      "Epoch 35/50\n",
      "16/16 - 0s - loss: 1051.4036 - val_loss: 979.5360 - 79ms/epoch - 5ms/step\n",
      "Epoch 36/50\n",
      "16/16 - 0s - loss: 1029.1261 - val_loss: 958.7833 - 70ms/epoch - 4ms/step\n",
      "Epoch 37/50\n",
      "16/16 - 0s - loss: 1006.4041 - val_loss: 938.2629 - 86ms/epoch - 5ms/step\n",
      "Epoch 38/50\n",
      "16/16 - 0s - loss: 983.7696 - val_loss: 917.5220 - 71ms/epoch - 4ms/step\n",
      "Epoch 39/50\n",
      "16/16 - 0s - loss: 961.1722 - val_loss: 896.3963 - 56ms/epoch - 3ms/step\n",
      "Epoch 40/50\n",
      "16/16 - 0s - loss: 938.0480 - val_loss: 875.7297 - 75ms/epoch - 5ms/step\n",
      "Epoch 41/50\n",
      "16/16 - 0s - loss: 915.3359 - val_loss: 854.9900 - 56ms/epoch - 3ms/step\n",
      "Epoch 42/50\n",
      "16/16 - 0s - loss: 892.8870 - val_loss: 833.9678 - 85ms/epoch - 5ms/step\n",
      "Epoch 43/50\n",
      "16/16 - 0s - loss: 870.2515 - val_loss: 813.4915 - 63ms/epoch - 4ms/step\n",
      "Epoch 44/50\n",
      "16/16 - 0s - loss: 847.8659 - val_loss: 792.8345 - 70ms/epoch - 4ms/step\n",
      "Epoch 45/50\n",
      "16/16 - 0s - loss: 826.1786 - val_loss: 772.2748 - 61ms/epoch - 4ms/step\n",
      "Epoch 46/50\n",
      "16/16 - 0s - loss: 804.0992 - val_loss: 752.2022 - 82ms/epoch - 5ms/step\n",
      "Epoch 47/50\n",
      "16/16 - 0s - loss: 782.8370 - val_loss: 732.3485 - 77ms/epoch - 5ms/step\n",
      "Epoch 48/50\n",
      "16/16 - 0s - loss: 761.5760 - val_loss: 712.8018 - 57ms/epoch - 4ms/step\n",
      "Epoch 49/50\n",
      "16/16 - 0s - loss: 741.0643 - val_loss: 693.2484 - 97ms/epoch - 6ms/step\n",
      "Epoch 50/50\n",
      "16/16 - 0s - loss: 720.5671 - val_loss: 674.1841 - 78ms/epoch - 5ms/step\n"
     ]
    },
    {
     "data": {
      "text/plain": [
       "<keras.src.callbacks.History at 0x1e04d33b9d0>"
      ]
     },
     "execution_count": 33,
     "metadata": {},
     "output_type": "execute_result"
    }
   ],
   "source": [
    "model_B.fit(X_train, y_train, validation_split= 0.3, epochs = 50, verbose = 2 )"
   ]
  },
  {
   "cell_type": "code",
   "execution_count": 34,
   "id": "713acb4e",
   "metadata": {},
   "outputs": [
    {
     "name": "stdout",
     "output_type": "stream",
     "text": [
      "10/10 [==============================] - 0s 2ms/step\n"
     ]
    }
   ],
   "source": [
    "prediction = model_B.predict(X_test)"
   ]
  },
  {
   "cell_type": "code",
   "execution_count": 35,
   "id": "977ab2cd",
   "metadata": {},
   "outputs": [],
   "source": [
    "from sklearn.metrics import mean_squared_error"
   ]
  },
  {
   "cell_type": "code",
   "execution_count": 36,
   "id": "c1d46057",
   "metadata": {},
   "outputs": [
    {
     "data": {
      "text/plain": [
       "669.4151931797852"
      ]
     },
     "execution_count": 36,
     "metadata": {},
     "output_type": "execute_result"
    }
   ],
   "source": [
    "mse = mean_squared_error(y_test, prediction)\n",
    "mse"
   ]
  },
  {
   "cell_type": "code",
   "execution_count": 37,
   "id": "b9889c0e",
   "metadata": {
    "scrolled": true
   },
   "outputs": [
    {
     "name": "stdout",
     "output_type": "stream",
     "text": [
      "10/10 [==============================] - 0s 3ms/step\n",
      "MSE 1: 170.49599312705828\n",
      "10/10 [==============================] - 0s 3ms/step\n",
      "MSE 2: 149.39215190853326\n",
      "10/10 [==============================] - 0s 2ms/step\n",
      "MSE 3: 93.53260740030223\n",
      "10/10 [==============================] - 0s 3ms/step\n",
      "MSE 4: 73.16498320137352\n",
      "10/10 [==============================] - 0s 2ms/step\n",
      "MSE 5: 57.099443295256854\n",
      "10/10 [==============================] - 0s 3ms/step\n",
      "MSE 6: 55.91825718990585\n",
      "10/10 [==============================] - 0s 3ms/step\n",
      "MSE 7: 54.602391870829635\n",
      "10/10 [==============================] - 0s 3ms/step\n",
      "MSE 8: 39.098358108339106\n",
      "10/10 [==============================] - 0s 4ms/step\n",
      "MSE 9: 42.48195789435878\n",
      "10/10 [==============================] - 0s 2ms/step\n",
      "MSE 10: 42.331629325755216\n",
      "10/10 [==============================] - 0s 4ms/step\n",
      "MSE 11: 41.20441964731104\n",
      "10/10 [==============================] - 0s 1ms/step\n",
      "MSE 12: 37.135476443071184\n",
      "10/10 [==============================] - 0s 2ms/step\n",
      "MSE 13: 45.67133556671853\n",
      "10/10 [==============================] - 0s 2ms/step\n",
      "MSE 14: 44.26973190376471\n",
      "10/10 [==============================] - 0s 3ms/step\n",
      "MSE 15: 36.94705619439608\n",
      "10/10 [==============================] - 0s 4ms/step\n",
      "MSE 16: 33.32982158903027\n",
      "10/10 [==============================] - 0s 1ms/step\n",
      "MSE 17: 36.47103397283784\n",
      "10/10 [==============================] - 0s 2ms/step\n",
      "MSE 18: 35.717028944170586\n",
      "10/10 [==============================] - 0s 2ms/step\n",
      "MSE 19: 36.20957498986975\n",
      "10/10 [==============================] - 0s 3ms/step\n",
      "MSE 20: 36.59703433433236\n",
      "10/10 [==============================] - 0s 3ms/step\n",
      "MSE 21: 34.3125951700472\n",
      "10/10 [==============================] - 0s 3ms/step\n",
      "MSE 22: 32.62058692808375\n",
      "10/10 [==============================] - 0s 3ms/step\n",
      "MSE 23: 31.96848978693022\n",
      "10/10 [==============================] - 0s 3ms/step\n",
      "MSE 24: 33.48645746589565\n",
      "10/10 [==============================] - 0s 3ms/step\n",
      "MSE 25: 34.69980976635128\n",
      "10/10 [==============================] - 0s 2ms/step\n",
      "MSE 26: 36.77817943966276\n",
      "10/10 [==============================] - 0s 2ms/step\n",
      "MSE 27: 31.511671588491907\n",
      "10/10 [==============================] - 0s 3ms/step\n",
      "MSE 28: 29.924358576337934\n",
      "10/10 [==============================] - 0s 1ms/step\n",
      "MSE 29: 36.860305548862314\n",
      "10/10 [==============================] - 0s 2ms/step\n",
      "MSE 30: 35.47941187659551\n",
      "10/10 [==============================] - 0s 2ms/step\n",
      "MSE 31: 32.860480222778925\n",
      "10/10 [==============================] - 0s 1ms/step\n",
      "MSE 32: 29.490756722561954\n",
      "10/10 [==============================] - 0s 3ms/step\n",
      "MSE 33: 30.956604403551616\n",
      "10/10 [==============================] - 0s 2ms/step\n",
      "MSE 34: 33.73054672055304\n",
      "10/10 [==============================] - 0s 3ms/step\n",
      "MSE 35: 34.371255824821404\n",
      "10/10 [==============================] - 0s 2ms/step\n",
      "MSE 36: 37.06815177001207\n",
      "10/10 [==============================] - 0s 1ms/step\n",
      "MSE 37: 31.008100118222313\n",
      "10/10 [==============================] - 0s 2ms/step\n",
      "MSE 38: 36.75272864796368\n",
      "10/10 [==============================] - 0s 3ms/step\n",
      "MSE 39: 32.805890228165104\n",
      "10/10 [==============================] - 0s 3ms/step\n",
      "MSE 40: 27.975444860328363\n",
      "10/10 [==============================] - 0s 2ms/step\n",
      "MSE 41: 36.6527532217793\n",
      "10/10 [==============================] - 0s 2ms/step\n",
      "MSE 42: 30.068346919428187\n",
      "10/10 [==============================] - 0s 2ms/step\n",
      "MSE 43: 33.06633875985363\n",
      "10/10 [==============================] - 0s 2ms/step\n",
      "MSE 44: 37.55935352802537\n",
      "10/10 [==============================] - 0s 3ms/step\n",
      "MSE 45: 35.462821982210286\n",
      "10/10 [==============================] - 0s 3ms/step\n",
      "MSE 46: 35.89835578728118\n",
      "10/10 [==============================] - 0s 2ms/step\n",
      "MSE 47: 34.39371587119809\n",
      "10/10 [==============================] - 0s 3ms/step\n",
      "MSE 48: 34.13806141400963\n",
      "10/10 [==============================] - 0s 2ms/step\n",
      "MSE 49: 35.30445109028402\n",
      "10/10 [==============================] - 0s 2ms/step\n",
      "MSE 50: 36.19638309929586\n"
     ]
    }
   ],
   "source": [
    "total_mean_squared_errors = 50\n",
    "mean_squared_errors = []\n",
    "for i in range(0, total_mean_squared_errors):\n",
    "    X_train, X_test, y_train, y_test = train_test_split(pred_norm, target, test_size=0.3, random_state=i)\n",
    "    model_B.fit(X_train, y_train, epochs=50, verbose=0)\n",
    "    y_pred = model_B.predict(X_test)\n",
    "    MSE = mean_squared_error(y_test, y_pred)\n",
    "    print(\"MSE \"+str(i+1)+\": \"+str(MSE))\n",
    "    mean_squared_errors.append(MSE)\n",
    "\n",
    "mean_squared_errors = np.array(mean_squared_errors)\n",
    "mean_norm = np.mean(mean_squared_errors)\n",
    "sd_norm = np.std(mean_squared_errors)\n"
   ]
  },
  {
   "cell_type": "code",
   "execution_count": 38,
   "id": "ac5ecd06",
   "metadata": {
    "scrolled": true
   },
   "outputs": [
    {
     "name": "stdout",
     "output_type": "stream",
     "text": [
      "Mean and standard deviation of 50 mean squared errors with normalized data. \n",
      "\n",
      "Mean: 43.501453884935955\n",
      "Standard Deviation: 26.32136521998758\n"
     ]
    }
   ],
   "source": [
    "print(\"Mean and standard deviation of \" +str(total_mean_squared_errors) + \" mean squared errors with normalized data. \\n\")\n",
    "print(\"Mean: \"+str(mean_norm))\n",
    "print(\"Standard Deviation: \"+str(sd_norm))"
   ]
  },
  {
   "cell_type": "markdown",
   "id": "fe1d3161",
   "metadata": {},
   "source": [
    "# Part C (Increasing number of epochs to 100)"
   ]
  },
  {
   "cell_type": "code",
   "execution_count": 39,
   "id": "9456d117",
   "metadata": {},
   "outputs": [],
   "source": [
    "model_C = Regression()"
   ]
  },
  {
   "cell_type": "code",
   "execution_count": 40,
   "id": "7a3a40c5",
   "metadata": {},
   "outputs": [
    {
     "name": "stdout",
     "output_type": "stream",
     "text": [
      "Epoch 1/100\n",
      "16/16 - 1s - loss: 1540.2133 - val_loss: 1550.3519 - 633ms/epoch - 40ms/step\n",
      "Epoch 2/100\n",
      "16/16 - 0s - loss: 1529.8628 - val_loss: 1540.0634 - 83ms/epoch - 5ms/step\n",
      "Epoch 3/100\n",
      "16/16 - 0s - loss: 1519.4109 - val_loss: 1529.4618 - 74ms/epoch - 5ms/step\n",
      "Epoch 4/100\n",
      "16/16 - 0s - loss: 1508.4598 - val_loss: 1518.8586 - 57ms/epoch - 4ms/step\n",
      "Epoch 5/100\n",
      "16/16 - 0s - loss: 1497.5433 - val_loss: 1507.6293 - 82ms/epoch - 5ms/step\n",
      "Epoch 6/100\n",
      "16/16 - 0s - loss: 1486.1112 - val_loss: 1496.1603 - 67ms/epoch - 4ms/step\n",
      "Epoch 7/100\n",
      "16/16 - 0s - loss: 1474.4690 - val_loss: 1484.3608 - 83ms/epoch - 5ms/step\n",
      "Epoch 8/100\n",
      "16/16 - 0s - loss: 1462.3771 - val_loss: 1472.1184 - 69ms/epoch - 4ms/step\n",
      "Epoch 9/100\n",
      "16/16 - 0s - loss: 1449.7947 - val_loss: 1459.5118 - 81ms/epoch - 5ms/step\n",
      "Epoch 10/100\n",
      "16/16 - 0s - loss: 1436.8059 - val_loss: 1446.4176 - 83ms/epoch - 5ms/step\n",
      "Epoch 11/100\n",
      "16/16 - 0s - loss: 1423.2955 - val_loss: 1432.8716 - 83ms/epoch - 5ms/step\n",
      "Epoch 12/100\n",
      "16/16 - 0s - loss: 1409.5760 - val_loss: 1418.4055 - 73ms/epoch - 5ms/step\n",
      "Epoch 13/100\n",
      "16/16 - 0s - loss: 1394.7029 - val_loss: 1403.9739 - 60ms/epoch - 4ms/step\n",
      "Epoch 14/100\n",
      "16/16 - 0s - loss: 1379.7950 - val_loss: 1388.5812 - 73ms/epoch - 5ms/step\n",
      "Epoch 15/100\n",
      "16/16 - 0s - loss: 1363.9089 - val_loss: 1372.7192 - 58ms/epoch - 4ms/step\n",
      "Epoch 16/100\n",
      "16/16 - 0s - loss: 1347.7086 - val_loss: 1355.9578 - 77ms/epoch - 5ms/step\n",
      "Epoch 17/100\n",
      "16/16 - 0s - loss: 1330.5519 - val_loss: 1338.7506 - 67ms/epoch - 4ms/step\n",
      "Epoch 18/100\n",
      "16/16 - 0s - loss: 1312.7821 - val_loss: 1320.5363 - 66ms/epoch - 4ms/step\n",
      "Epoch 19/100\n",
      "16/16 - 0s - loss: 1293.8453 - val_loss: 1301.8376 - 68ms/epoch - 4ms/step\n",
      "Epoch 20/100\n",
      "16/16 - 0s - loss: 1274.5220 - val_loss: 1282.5222 - 73ms/epoch - 5ms/step\n",
      "Epoch 21/100\n",
      "16/16 - 0s - loss: 1254.5739 - val_loss: 1262.6790 - 59ms/epoch - 4ms/step\n",
      "Epoch 22/100\n",
      "16/16 - 0s - loss: 1234.6598 - val_loss: 1241.7120 - 80ms/epoch - 5ms/step\n",
      "Epoch 23/100\n",
      "16/16 - 0s - loss: 1213.1770 - val_loss: 1221.0576 - 68ms/epoch - 4ms/step\n",
      "Epoch 24/100\n",
      "16/16 - 0s - loss: 1191.9485 - val_loss: 1199.6077 - 78ms/epoch - 5ms/step\n",
      "Epoch 25/100\n",
      "16/16 - 0s - loss: 1170.3638 - val_loss: 1177.4368 - 70ms/epoch - 4ms/step\n",
      "Epoch 26/100\n",
      "16/16 - 0s - loss: 1147.9438 - val_loss: 1155.0002 - 73ms/epoch - 5ms/step\n",
      "Epoch 27/100\n",
      "16/16 - 0s - loss: 1125.4829 - val_loss: 1132.0089 - 60ms/epoch - 4ms/step\n",
      "Epoch 28/100\n",
      "16/16 - 0s - loss: 1102.5948 - val_loss: 1108.5759 - 76ms/epoch - 5ms/step\n",
      "Epoch 29/100\n",
      "16/16 - 0s - loss: 1079.1620 - val_loss: 1085.3492 - 69ms/epoch - 4ms/step\n",
      "Epoch 30/100\n",
      "16/16 - 0s - loss: 1055.7059 - val_loss: 1062.0674 - 68ms/epoch - 4ms/step\n",
      "Epoch 31/100\n",
      "16/16 - 0s - loss: 1032.5208 - val_loss: 1038.1140 - 73ms/epoch - 5ms/step\n",
      "Epoch 32/100\n",
      "16/16 - 0s - loss: 1008.9109 - val_loss: 1014.2599 - 72ms/epoch - 5ms/step\n",
      "Epoch 33/100\n",
      "16/16 - 0s - loss: 985.1102 - val_loss: 990.3865 - 86ms/epoch - 5ms/step\n",
      "Epoch 34/100\n",
      "16/16 - 0s - loss: 961.1834 - val_loss: 966.7443 - 66ms/epoch - 4ms/step\n",
      "Epoch 35/100\n",
      "16/16 - 0s - loss: 937.8790 - val_loss: 942.4741 - 81ms/epoch - 5ms/step\n",
      "Epoch 36/100\n",
      "16/16 - 0s - loss: 913.7549 - val_loss: 919.0327 - 67ms/epoch - 4ms/step\n",
      "Epoch 37/100\n",
      "16/16 - 0s - loss: 890.6108 - val_loss: 894.9559 - 75ms/epoch - 5ms/step\n",
      "Epoch 38/100\n",
      "16/16 - 0s - loss: 866.8399 - val_loss: 871.5063 - 58ms/epoch - 4ms/step\n",
      "Epoch 39/100\n",
      "16/16 - 0s - loss: 843.7103 - val_loss: 848.0343 - 77ms/epoch - 5ms/step\n",
      "Epoch 40/100\n",
      "16/16 - 0s - loss: 820.8277 - val_loss: 824.8779 - 61ms/epoch - 4ms/step\n",
      "Epoch 41/100\n",
      "16/16 - 0s - loss: 797.9901 - val_loss: 802.1833 - 58ms/epoch - 4ms/step\n",
      "Epoch 42/100\n",
      "16/16 - 0s - loss: 776.1445 - val_loss: 779.0860 - 77ms/epoch - 5ms/step\n",
      "Epoch 43/100\n",
      "16/16 - 0s - loss: 753.5372 - val_loss: 756.9957 - 61ms/epoch - 4ms/step\n",
      "Epoch 44/100\n",
      "16/16 - 0s - loss: 731.8499 - val_loss: 735.2738 - 58ms/epoch - 4ms/step\n",
      "Epoch 45/100\n",
      "16/16 - 0s - loss: 710.4915 - val_loss: 714.0371 - 73ms/epoch - 5ms/step\n",
      "Epoch 46/100\n",
      "16/16 - 0s - loss: 690.1156 - val_loss: 692.4175 - 59ms/epoch - 4ms/step\n",
      "Epoch 47/100\n",
      "16/16 - 0s - loss: 669.3019 - val_loss: 671.7224 - 76ms/epoch - 5ms/step\n",
      "Epoch 48/100\n",
      "16/16 - 0s - loss: 649.4258 - val_loss: 651.3158 - 56ms/epoch - 3ms/step\n",
      "Epoch 49/100\n",
      "16/16 - 0s - loss: 629.8848 - val_loss: 631.4723 - 70ms/epoch - 4ms/step\n",
      "Epoch 50/100\n",
      "16/16 - 0s - loss: 610.9153 - val_loss: 611.8810 - 81ms/epoch - 5ms/step\n",
      "Epoch 51/100\n",
      "16/16 - 0s - loss: 592.2370 - val_loss: 593.2144 - 68ms/epoch - 4ms/step\n",
      "Epoch 52/100\n",
      "16/16 - 0s - loss: 574.3497 - val_loss: 575.0213 - 78ms/epoch - 5ms/step\n",
      "Epoch 53/100\n",
      "16/16 - 0s - loss: 556.9755 - val_loss: 557.3861 - 69ms/epoch - 4ms/step\n",
      "Epoch 54/100\n",
      "16/16 - 0s - loss: 540.3464 - val_loss: 540.0313 - 66ms/epoch - 4ms/step\n",
      "Epoch 55/100\n",
      "16/16 - 0s - loss: 524.0048 - val_loss: 523.2852 - 76ms/epoch - 5ms/step\n",
      "Epoch 56/100\n",
      "16/16 - 0s - loss: 508.2893 - val_loss: 507.0324 - 56ms/epoch - 4ms/step\n",
      "Epoch 57/100\n",
      "16/16 - 0s - loss: 492.8689 - val_loss: 491.7723 - 72ms/epoch - 4ms/step\n",
      "Epoch 58/100\n",
      "16/16 - 0s - loss: 478.6183 - val_loss: 476.4339 - 55ms/epoch - 3ms/step\n",
      "Epoch 59/100\n",
      "16/16 - 0s - loss: 464.7054 - val_loss: 461.5416 - 58ms/epoch - 4ms/step\n",
      "Epoch 60/100\n",
      "16/16 - 0s - loss: 450.7633 - val_loss: 448.0423 - 59ms/epoch - 4ms/step\n",
      "Epoch 61/100\n",
      "16/16 - 0s - loss: 438.2914 - val_loss: 434.3098 - 64ms/epoch - 4ms/step\n",
      "Epoch 62/100\n",
      "16/16 - 0s - loss: 425.6596 - val_loss: 421.5076 - 55ms/epoch - 3ms/step\n",
      "Epoch 63/100\n",
      "16/16 - 0s - loss: 413.8261 - val_loss: 409.0470 - 55ms/epoch - 3ms/step\n",
      "Epoch 64/100\n",
      "16/16 - 0s - loss: 402.1852 - val_loss: 397.3769 - 60ms/epoch - 4ms/step\n",
      "Epoch 65/100\n",
      "16/16 - 0s - loss: 391.4960 - val_loss: 385.6883 - 58ms/epoch - 4ms/step\n",
      "Epoch 66/100\n",
      "16/16 - 0s - loss: 380.9566 - val_loss: 374.5720 - 71ms/epoch - 4ms/step\n",
      "Epoch 67/100\n",
      "16/16 - 0s - loss: 371.0265 - val_loss: 363.9732 - 60ms/epoch - 4ms/step\n",
      "Epoch 68/100\n",
      "16/16 - 0s - loss: 361.3974 - val_loss: 354.0836 - 60ms/epoch - 4ms/step\n",
      "Epoch 69/100\n",
      "16/16 - 0s - loss: 352.3582 - val_loss: 344.3763 - 59ms/epoch - 4ms/step\n",
      "Epoch 70/100\n",
      "16/16 - 0s - loss: 343.6666 - val_loss: 335.1221 - 57ms/epoch - 4ms/step\n",
      "Epoch 71/100\n",
      "16/16 - 0s - loss: 335.4436 - val_loss: 326.1946 - 59ms/epoch - 4ms/step\n",
      "Epoch 72/100\n",
      "16/16 - 0s - loss: 327.4969 - val_loss: 317.8441 - 55ms/epoch - 3ms/step\n",
      "Epoch 73/100\n",
      "16/16 - 0s - loss: 319.8558 - val_loss: 309.8855 - 60ms/epoch - 4ms/step\n",
      "Epoch 74/100\n",
      "16/16 - 0s - loss: 312.8706 - val_loss: 301.9761 - 64ms/epoch - 4ms/step\n",
      "Epoch 75/100\n",
      "16/16 - 0s - loss: 305.7141 - val_loss: 294.9529 - 54ms/epoch - 3ms/step\n",
      "Epoch 76/100\n",
      "16/16 - 0s - loss: 299.2768 - val_loss: 287.9538 - 59ms/epoch - 4ms/step\n",
      "Epoch 77/100\n",
      "16/16 - 0s - loss: 293.1462 - val_loss: 281.0190 - 57ms/epoch - 4ms/step\n",
      "Epoch 78/100\n",
      "16/16 - 0s - loss: 286.9451 - val_loss: 274.8441 - 58ms/epoch - 4ms/step\n",
      "Epoch 79/100\n",
      "16/16 - 0s - loss: 281.2723 - val_loss: 268.7259 - 60ms/epoch - 4ms/step\n",
      "Epoch 80/100\n",
      "16/16 - 0s - loss: 275.9715 - val_loss: 262.7296 - 56ms/epoch - 4ms/step\n",
      "Epoch 81/100\n",
      "16/16 - 0s - loss: 270.7728 - val_loss: 256.9655 - 59ms/epoch - 4ms/step\n",
      "Epoch 82/100\n",
      "16/16 - 0s - loss: 265.5799 - val_loss: 251.7798 - 56ms/epoch - 4ms/step\n",
      "Epoch 83/100\n",
      "16/16 - 0s - loss: 260.8139 - val_loss: 246.7591 - 74ms/epoch - 5ms/step\n",
      "Epoch 84/100\n",
      "16/16 - 0s - loss: 256.3469 - val_loss: 241.6883 - 56ms/epoch - 4ms/step\n",
      "Epoch 85/100\n",
      "16/16 - 0s - loss: 251.8407 - val_loss: 237.0221 - 68ms/epoch - 4ms/step\n",
      "Epoch 86/100\n",
      "16/16 - 0s - loss: 247.6778 - val_loss: 232.4552 - 54ms/epoch - 3ms/step\n",
      "Epoch 87/100\n",
      "16/16 - 0s - loss: 243.6015 - val_loss: 228.1152 - 57ms/epoch - 4ms/step\n",
      "Epoch 88/100\n",
      "16/16 - 0s - loss: 239.8364 - val_loss: 223.9858 - 61ms/epoch - 4ms/step\n",
      "Epoch 89/100\n",
      "16/16 - 0s - loss: 236.1728 - val_loss: 220.1870 - 61ms/epoch - 4ms/step\n",
      "Epoch 90/100\n",
      "16/16 - 0s - loss: 232.7652 - val_loss: 216.4458 - 58ms/epoch - 4ms/step\n",
      "Epoch 91/100\n",
      "16/16 - 0s - loss: 229.3824 - val_loss: 212.9331 - 77ms/epoch - 5ms/step\n",
      "Epoch 92/100\n",
      "16/16 - 0s - loss: 226.2834 - val_loss: 209.6748 - 62ms/epoch - 4ms/step\n",
      "Epoch 93/100\n",
      "16/16 - 0s - loss: 223.1735 - val_loss: 206.4852 - 56ms/epoch - 3ms/step\n",
      "Epoch 94/100\n",
      "16/16 - 0s - loss: 220.3246 - val_loss: 203.1887 - 66ms/epoch - 4ms/step\n",
      "Epoch 95/100\n",
      "16/16 - 0s - loss: 217.5544 - val_loss: 200.2481 - 56ms/epoch - 4ms/step\n"
     ]
    },
    {
     "name": "stdout",
     "output_type": "stream",
     "text": [
      "Epoch 96/100\n",
      "16/16 - 0s - loss: 214.8181 - val_loss: 197.5151 - 58ms/epoch - 4ms/step\n",
      "Epoch 97/100\n",
      "16/16 - 0s - loss: 212.3764 - val_loss: 194.7608 - 64ms/epoch - 4ms/step\n",
      "Epoch 98/100\n",
      "16/16 - 0s - loss: 209.8932 - val_loss: 192.1595 - 60ms/epoch - 4ms/step\n",
      "Epoch 99/100\n",
      "16/16 - 0s - loss: 207.5358 - val_loss: 189.7766 - 55ms/epoch - 3ms/step\n",
      "Epoch 100/100\n",
      "16/16 - 0s - loss: 205.2941 - val_loss: 187.2858 - 69ms/epoch - 4ms/step\n",
      "10/10 [==============================] - 0s 2ms/step\n"
     ]
    },
    {
     "data": {
      "text/plain": [
       "204.46933863500712"
      ]
     },
     "execution_count": 40,
     "metadata": {},
     "output_type": "execute_result"
    }
   ],
   "source": [
    "model_C.fit(X_train, y_train, validation_split= 0.3, epochs = 100, verbose = 2 )\n",
    "\n",
    "prediction = model_C.predict(X_test)\n",
    "\n",
    "mse = mean_squared_error(y_test, prediction)\n",
    "mse"
   ]
  },
  {
   "cell_type": "code",
   "execution_count": 41,
   "id": "bdb03ff8",
   "metadata": {},
   "outputs": [
    {
     "name": "stdout",
     "output_type": "stream",
     "text": [
      "10/10 [==============================] - 0s 3ms/step\n",
      "MSE 1: 90.62921283175416\n",
      "10/10 [==============================] - 0s 2ms/step\n",
      "MSE 2: 70.2103524257759\n",
      "10/10 [==============================] - 0s 4ms/step\n",
      "MSE 3: 44.23215565518956\n",
      "10/10 [==============================] - 0s 3ms/step\n",
      "MSE 4: 44.61961072802456\n",
      "10/10 [==============================] - 0s 2ms/step\n",
      "MSE 5: 42.20007757222436\n",
      "10/10 [==============================] - 0s 2ms/step\n",
      "MSE 6: 44.28968415373779\n",
      "10/10 [==============================] - 0s 3ms/step\n",
      "MSE 7: 46.60328545737685\n",
      "10/10 [==============================] - 0s 3ms/step\n",
      "MSE 8: 34.95960099909849\n",
      "10/10 [==============================] - 0s 3ms/step\n",
      "MSE 9: 36.667289066333055\n",
      "10/10 [==============================] - 0s 2ms/step\n",
      "MSE 10: 36.33753047722717\n",
      "10/10 [==============================] - 0s 3ms/step\n",
      "MSE 11: 39.08818396105238\n",
      "10/10 [==============================] - 0s 3ms/step\n",
      "MSE 12: 33.56087768705069\n",
      "10/10 [==============================] - 0s 3ms/step\n",
      "MSE 13: 42.45189023220356\n",
      "10/10 [==============================] - 0s 3ms/step\n",
      "MSE 14: 42.24320030982778\n",
      "10/10 [==============================] - 0s 2ms/step\n",
      "MSE 15: 34.5983300855198\n",
      "10/10 [==============================] - 0s 2ms/step\n",
      "MSE 16: 30.250950251289108\n",
      "10/10 [==============================] - 0s 2ms/step\n",
      "MSE 17: 34.00771750059237\n",
      "10/10 [==============================] - 0s 2ms/step\n",
      "MSE 18: 34.64959503487016\n",
      "10/10 [==============================] - 0s 2ms/step\n",
      "MSE 19: 34.375363282970994\n",
      "10/10 [==============================] - 0s 2ms/step\n",
      "MSE 20: 35.7871058068508\n",
      "10/10 [==============================] - 0s 2ms/step\n",
      "MSE 21: 32.11601952856396\n",
      "10/10 [==============================] - 0s 2ms/step\n",
      "MSE 22: 33.34452907368123\n",
      "10/10 [==============================] - 0s 2ms/step\n",
      "MSE 23: 29.498159577956454\n",
      "10/10 [==============================] - 0s 2ms/step\n",
      "MSE 24: 34.595818155179785\n",
      "10/10 [==============================] - 0s 2ms/step\n",
      "MSE 25: 33.81348112494506\n",
      "10/10 [==============================] - 0s 2ms/step\n",
      "MSE 26: 37.284905368032994\n",
      "10/10 [==============================] - 0s 2ms/step\n",
      "MSE 27: 30.227459534098422\n",
      "10/10 [==============================] - 0s 2ms/step\n",
      "MSE 28: 30.477148348820442\n",
      "10/10 [==============================] - 0s 2ms/step\n",
      "MSE 29: 38.20885325536278\n",
      "10/10 [==============================] - 0s 2ms/step\n",
      "MSE 30: 34.659763797632564\n",
      "10/10 [==============================] - 0s 2ms/step\n",
      "MSE 31: 32.28927417754497\n",
      "10/10 [==============================] - 0s 2ms/step\n",
      "MSE 32: 28.98467727540262\n",
      "10/10 [==============================] - 0s 2ms/step\n",
      "MSE 33: 30.676209855845453\n",
      "10/10 [==============================] - 0s 3ms/step\n",
      "MSE 34: 33.26840611670428\n",
      "10/10 [==============================] - 0s 3ms/step\n",
      "MSE 35: 31.74649330257452\n",
      "10/10 [==============================] - 0s 2ms/step\n",
      "MSE 36: 38.51383604392735\n",
      "10/10 [==============================] - 0s 3ms/step\n",
      "MSE 37: 30.52348547066002\n",
      "10/10 [==============================] - 0s 3ms/step\n",
      "MSE 38: 35.30278983372455\n",
      "10/10 [==============================] - 0s 3ms/step\n",
      "MSE 39: 31.22319569924511\n",
      "10/10 [==============================] - 0s 2ms/step\n",
      "MSE 40: 27.93917917143526\n",
      "10/10 [==============================] - 0s 2ms/step\n",
      "MSE 41: 35.243366007413826\n",
      "10/10 [==============================] - 0s 1ms/step\n",
      "MSE 42: 28.71711040619911\n",
      "10/10 [==============================] - 0s 3ms/step\n",
      "MSE 43: 31.657376696479332\n",
      "10/10 [==============================] - 0s 2ms/step\n",
      "MSE 44: 32.258062537481976\n",
      "10/10 [==============================] - 0s 3ms/step\n",
      "MSE 45: 36.12158986770196\n",
      "10/10 [==============================] - 0s 2ms/step\n",
      "MSE 46: 33.91375652696354\n",
      "10/10 [==============================] - 0s 2ms/step\n",
      "MSE 47: 33.28465912395408\n",
      "10/10 [==============================] - 0s 2ms/step\n",
      "MSE 48: 31.335989925097945\n",
      "10/10 [==============================] - 0s 2ms/step\n",
      "MSE 49: 35.01295189055074\n",
      "10/10 [==============================] - 0s 2ms/step\n",
      "MSE 50: 35.7456780166675\n"
     ]
    }
   ],
   "source": [
    "total_mean_squared_errors = 50\n",
    "mean_squared_errors = []\n",
    "for i in range(0, total_mean_squared_errors):\n",
    "    X_train, X_test, y_train, y_test = train_test_split(pred_norm, target, test_size=0.3, random_state=i)\n",
    "    model_C.fit(X_train, y_train, epochs=100, verbose=0)\n",
    "    y_pred = model_C.predict(X_test)\n",
    "    MSE = mean_squared_error(y_test, y_pred)\n",
    "    print(\"MSE \"+str(i+1)+\": \"+str(MSE))\n",
    "    mean_squared_errors.append(MSE)\n",
    "\n",
    "mean_squared_errors = np.array(mean_squared_errors)\n",
    "mean_norm_C = np.mean(mean_squared_errors)\n",
    "sd_norm_C = np.std(mean_squared_errors)"
   ]
  },
  {
   "cell_type": "code",
   "execution_count": 42,
   "id": "bc6a3b02",
   "metadata": {},
   "outputs": [
    {
     "name": "stdout",
     "output_type": "stream",
     "text": [
      "Mean and standard deviation of 50 mean squared errors with normalized data. \n",
      "\n",
      "Mean: 36.794924784576345\n",
      "Standard Deviation: 10.130921102271454\n"
     ]
    }
   ],
   "source": [
    "print(\"Mean and standard deviation of \" +str(total_mean_squared_errors) + \" mean squared errors with normalized data. \\n\")\n",
    "print(\"Mean: \"+str(mean_norm_C))\n",
    "print(\"Standard Deviation: \"+str(sd_norm_C)) "
   ]
  },
  {
   "cell_type": "markdown",
   "id": "343d58b7",
   "metadata": {},
   "source": [
    "# Part D (Increasing the number of hidden layers)"
   ]
  },
  {
   "cell_type": "code",
   "execution_count": 43,
   "id": "90162679",
   "metadata": {},
   "outputs": [],
   "source": [
    "def Regression():\n",
    "    model = Sequential()\n",
    "    model.add(Dense(10, activation= \"relu\", input_shape = (n_cols,)))\n",
    "    model.add(Dense(10, activation = \"relu\"))\n",
    "    model.add(Dense(10, activation = \"relu\"))\n",
    "    model.add(Dense(1))\n",
    "    \n",
    "    model.compile(optimizer = \"adam\",  loss='mean_squared_error')\n",
    "    return model"
   ]
  },
  {
   "cell_type": "code",
   "execution_count": 44,
   "id": "184200d7",
   "metadata": {},
   "outputs": [
    {
     "name": "stdout",
     "output_type": "stream",
     "text": [
      "Epoch 1/50\n",
      "16/16 - 2s - loss: 1550.8190 - val_loss: 1557.2211 - 2s/epoch - 110ms/step\n",
      "Epoch 2/50\n",
      "16/16 - 0s - loss: 1539.0044 - val_loss: 1543.5985 - 108ms/epoch - 7ms/step\n",
      "Epoch 3/50\n",
      "16/16 - 0s - loss: 1523.7235 - val_loss: 1524.6882 - 104ms/epoch - 7ms/step\n",
      "Epoch 4/50\n",
      "16/16 - 0s - loss: 1500.8909 - val_loss: 1496.0409 - 94ms/epoch - 6ms/step\n",
      "Epoch 5/50\n",
      "16/16 - 0s - loss: 1466.3757 - val_loss: 1453.5831 - 108ms/epoch - 7ms/step\n",
      "Epoch 6/50\n",
      "16/16 - 0s - loss: 1416.6503 - val_loss: 1393.9481 - 97ms/epoch - 6ms/step\n",
      "Epoch 7/50\n",
      "16/16 - 0s - loss: 1345.7017 - val_loss: 1312.6696 - 88ms/epoch - 6ms/step\n",
      "Epoch 8/50\n",
      "16/16 - 0s - loss: 1248.8541 - val_loss: 1203.4053 - 83ms/epoch - 5ms/step\n",
      "Epoch 9/50\n",
      "16/16 - 0s - loss: 1122.9857 - val_loss: 1064.9860 - 91ms/epoch - 6ms/step\n",
      "Epoch 10/50\n",
      "16/16 - 0s - loss: 970.2783 - val_loss: 901.4953 - 84ms/epoch - 5ms/step\n",
      "Epoch 11/50\n",
      "16/16 - 0s - loss: 796.7769 - val_loss: 727.5129 - 84ms/epoch - 5ms/step\n",
      "Epoch 12/50\n",
      "16/16 - 0s - loss: 622.2847 - val_loss: 558.9718 - 86ms/epoch - 5ms/step\n",
      "Epoch 13/50\n",
      "16/16 - 0s - loss: 466.8884 - val_loss: 425.1071 - 102ms/epoch - 6ms/step\n",
      "Epoch 14/50\n",
      "16/16 - 0s - loss: 360.4610 - val_loss: 334.8776 - 85ms/epoch - 5ms/step\n",
      "Epoch 15/50\n",
      "16/16 - 0s - loss: 302.5515 - val_loss: 286.8524 - 100ms/epoch - 6ms/step\n",
      "Epoch 16/50\n",
      "16/16 - 0s - loss: 271.7631 - val_loss: 263.4616 - 102ms/epoch - 6ms/step\n",
      "Epoch 17/50\n",
      "16/16 - 0s - loss: 253.6865 - val_loss: 248.7168 - 67ms/epoch - 4ms/step\n",
      "Epoch 18/50\n",
      "16/16 - 0s - loss: 239.8935 - val_loss: 238.5670 - 75ms/epoch - 5ms/step\n",
      "Epoch 19/50\n",
      "16/16 - 0s - loss: 229.9093 - val_loss: 227.8811 - 80ms/epoch - 5ms/step\n",
      "Epoch 20/50\n",
      "16/16 - 0s - loss: 221.3415 - val_loss: 219.7503 - 80ms/epoch - 5ms/step\n",
      "Epoch 21/50\n",
      "16/16 - 0s - loss: 213.8920 - val_loss: 212.7881 - 62ms/epoch - 4ms/step\n",
      "Epoch 22/50\n",
      "16/16 - 0s - loss: 207.8568 - val_loss: 205.6203 - 63ms/epoch - 4ms/step\n",
      "Epoch 23/50\n",
      "16/16 - 0s - loss: 202.5516 - val_loss: 201.2720 - 78ms/epoch - 5ms/step\n",
      "Epoch 24/50\n",
      "16/16 - 0s - loss: 197.8093 - val_loss: 195.3427 - 79ms/epoch - 5ms/step\n",
      "Epoch 25/50\n",
      "16/16 - 0s - loss: 193.3004 - val_loss: 191.8698 - 66ms/epoch - 4ms/step\n",
      "Epoch 26/50\n",
      "16/16 - 0s - loss: 189.4547 - val_loss: 186.4028 - 62ms/epoch - 4ms/step\n",
      "Epoch 27/50\n",
      "16/16 - 0s - loss: 185.7365 - val_loss: 182.7870 - 79ms/epoch - 5ms/step\n",
      "Epoch 28/50\n",
      "16/16 - 0s - loss: 182.6838 - val_loss: 179.6376 - 96ms/epoch - 6ms/step\n",
      "Epoch 29/50\n",
      "16/16 - 0s - loss: 179.6484 - val_loss: 177.5047 - 104ms/epoch - 6ms/step\n",
      "Epoch 30/50\n",
      "16/16 - 0s - loss: 176.5012 - val_loss: 173.5930 - 104ms/epoch - 6ms/step\n",
      "Epoch 31/50\n",
      "16/16 - 0s - loss: 174.1034 - val_loss: 171.0350 - 71ms/epoch - 4ms/step\n",
      "Epoch 32/50\n",
      "16/16 - 0s - loss: 171.2129 - val_loss: 168.1725 - 71ms/epoch - 4ms/step\n",
      "Epoch 33/50\n",
      "16/16 - 0s - loss: 169.0950 - val_loss: 165.9251 - 81ms/epoch - 5ms/step\n",
      "Epoch 34/50\n",
      "16/16 - 0s - loss: 167.0641 - val_loss: 163.7480 - 84ms/epoch - 5ms/step\n",
      "Epoch 35/50\n",
      "16/16 - 0s - loss: 164.8580 - val_loss: 162.4980 - 66ms/epoch - 4ms/step\n",
      "Epoch 36/50\n",
      "16/16 - 0s - loss: 162.8080 - val_loss: 160.1016 - 84ms/epoch - 5ms/step\n",
      "Epoch 37/50\n",
      "16/16 - 0s - loss: 161.1155 - val_loss: 158.9318 - 79ms/epoch - 5ms/step\n",
      "Epoch 38/50\n",
      "16/16 - 0s - loss: 159.4854 - val_loss: 157.1673 - 97ms/epoch - 6ms/step\n",
      "Epoch 39/50\n",
      "16/16 - 0s - loss: 158.6138 - val_loss: 156.2222 - 92ms/epoch - 6ms/step\n",
      "Epoch 40/50\n",
      "16/16 - 0s - loss: 156.8360 - val_loss: 153.6003 - 100ms/epoch - 6ms/step\n",
      "Epoch 41/50\n",
      "16/16 - 0s - loss: 154.9028 - val_loss: 152.6708 - 86ms/epoch - 5ms/step\n",
      "Epoch 42/50\n",
      "16/16 - 0s - loss: 154.1634 - val_loss: 151.6295 - 81ms/epoch - 5ms/step\n",
      "Epoch 43/50\n",
      "16/16 - 0s - loss: 152.3558 - val_loss: 150.3344 - 90ms/epoch - 6ms/step\n",
      "Epoch 44/50\n",
      "16/16 - 0s - loss: 151.0977 - val_loss: 149.9483 - 90ms/epoch - 6ms/step\n",
      "Epoch 45/50\n",
      "16/16 - 0s - loss: 150.1007 - val_loss: 149.4270 - 87ms/epoch - 5ms/step\n",
      "Epoch 46/50\n",
      "16/16 - 0s - loss: 149.1340 - val_loss: 147.5463 - 88ms/epoch - 5ms/step\n",
      "Epoch 47/50\n",
      "16/16 - 0s - loss: 148.1745 - val_loss: 145.9265 - 95ms/epoch - 6ms/step\n",
      "Epoch 48/50\n",
      "16/16 - 0s - loss: 147.4122 - val_loss: 146.8723 - 84ms/epoch - 5ms/step\n",
      "Epoch 49/50\n",
      "16/16 - 0s - loss: 146.4194 - val_loss: 144.6068 - 88ms/epoch - 5ms/step\n",
      "Epoch 50/50\n",
      "16/16 - 0s - loss: 144.8044 - val_loss: 144.1231 - 89ms/epoch - 6ms/step\n",
      "10/10 [==============================] - 0s 2ms/step\n"
     ]
    },
    {
     "data": {
      "text/plain": [
       "166.2428391436913"
      ]
     },
     "execution_count": 44,
     "metadata": {},
     "output_type": "execute_result"
    }
   ],
   "source": [
    "model_D = Regression()\n",
    "\n",
    "model_D.fit(X_train, y_train, validation_split= 0.3, epochs = 50, verbose = 2 )\n",
    "\n",
    "prediction = model_D.predict(X_test)\n",
    "\n",
    "mse = mean_squared_error(y_test, prediction)\n",
    "mse"
   ]
  },
  {
   "cell_type": "code",
   "execution_count": 45,
   "id": "a25d4189",
   "metadata": {},
   "outputs": [
    {
     "name": "stdout",
     "output_type": "stream",
     "text": [
      "10/10 [==============================] - 0s 2ms/step\n",
      "MSE 1: 101.56848497893611\n",
      "10/10 [==============================] - 0s 2ms/step\n",
      "MSE 2: 78.91139512980152\n",
      "10/10 [==============================] - 0s 2ms/step\n",
      "MSE 3: 51.51492313569564\n",
      "10/10 [==============================] - 0s 2ms/step\n",
      "MSE 4: 54.33095146859439\n",
      "10/10 [==============================] - 0s 2ms/step\n",
      "MSE 5: 48.06833873718992\n",
      "10/10 [==============================] - 0s 3ms/step\n",
      "MSE 6: 47.50647885626452\n",
      "10/10 [==============================] - 0s 2ms/step\n",
      "MSE 7: 54.8760910749342\n",
      "10/10 [==============================] - 0s 3ms/step\n",
      "MSE 8: 43.48567806735944\n",
      "10/10 [==============================] - 0s 2ms/step\n",
      "MSE 9: 40.79799544177039\n",
      "10/10 [==============================] - 0s 2ms/step\n",
      "MSE 10: 36.29167963239043\n",
      "10/10 [==============================] - 0s 987us/step\n",
      "MSE 11: 34.70243786661437\n",
      "10/10 [==============================] - 0s 2ms/step\n",
      "MSE 12: 30.341460144471476\n",
      "10/10 [==============================] - 0s 2ms/step\n",
      "MSE 13: 38.50064329421456\n",
      "10/10 [==============================] - 0s 2ms/step\n",
      "MSE 14: 37.51590473948442\n",
      "10/10 [==============================] - 0s 0s/step\n",
      "MSE 15: 36.596728782708986\n",
      "10/10 [==============================] - 0s 2ms/step\n",
      "MSE 16: 23.279343539380257\n",
      "10/10 [==============================] - 0s 2ms/step\n",
      "MSE 17: 30.898577591746573\n",
      "10/10 [==============================] - 0s 565us/step\n",
      "MSE 18: 28.519271843064633\n",
      "10/10 [==============================] - 0s 2ms/step\n",
      "MSE 19: 30.045358727668365\n",
      "10/10 [==============================] - 0s 2ms/step\n",
      "MSE 20: 33.54989630988484\n",
      "10/10 [==============================] - 0s 569us/step\n",
      "MSE 21: 26.97859624664084\n",
      "10/10 [==============================] - 0s 2ms/step\n",
      "MSE 22: 30.665692915826536\n",
      "10/10 [==============================] - 0s 2ms/step\n",
      "MSE 23: 24.16498384766116\n",
      "10/10 [==============================] - 0s 2ms/step\n",
      "MSE 24: 26.936268843293245\n",
      "10/10 [==============================] - 0s 2ms/step\n",
      "MSE 25: 31.050004652173623\n",
      "10/10 [==============================] - 0s 2ms/step\n",
      "MSE 26: 29.088471742878003\n",
      "10/10 [==============================] - 0s 2ms/step\n",
      "MSE 27: 23.765191990708914\n",
      "10/10 [==============================] - 0s 3ms/step\n",
      "MSE 28: 28.350210425417917\n",
      "10/10 [==============================] - 0s 2ms/step\n",
      "MSE 29: 28.5316606171627\n",
      "10/10 [==============================] - 0s 2ms/step\n",
      "MSE 30: 23.961873417612654\n",
      "10/10 [==============================] - 0s 2ms/step\n",
      "MSE 31: 22.602307790699818\n",
      "10/10 [==============================] - 0s 2ms/step\n",
      "MSE 32: 21.809999841977106\n",
      "10/10 [==============================] - 0s 2ms/step\n",
      "MSE 33: 19.16006305430834\n",
      "10/10 [==============================] - 0s 2ms/step\n",
      "MSE 34: 27.762280225682613\n",
      "10/10 [==============================] - 0s 2ms/step\n",
      "MSE 35: 29.09350562076937\n",
      "10/10 [==============================] - 0s 2ms/step\n",
      "MSE 36: 30.368823098460034\n",
      "10/10 [==============================] - 0s 2ms/step\n",
      "MSE 37: 18.31869841415649\n",
      "10/10 [==============================] - 0s 2ms/step\n",
      "MSE 38: 26.94349053741313\n",
      "10/10 [==============================] - 0s 2ms/step\n",
      "MSE 39: 25.172016612774648\n",
      "10/10 [==============================] - 0s 2ms/step\n",
      "MSE 40: 21.224914640946118\n",
      "10/10 [==============================] - 0s 2ms/step\n",
      "MSE 41: 25.1838065348383\n",
      "10/10 [==============================] - 0s 2ms/step\n",
      "MSE 42: 19.798053108653967\n",
      "10/10 [==============================] - 0s 2ms/step\n",
      "MSE 43: 22.29230666666957\n",
      "10/10 [==============================] - 0s 3ms/step\n",
      "MSE 44: 26.892694437323566\n",
      "10/10 [==============================] - 0s 2ms/step\n",
      "MSE 45: 26.31987040276173\n",
      "10/10 [==============================] - 0s 2ms/step\n",
      "MSE 46: 24.533727695180165\n",
      "10/10 [==============================] - 0s 2ms/step\n",
      "MSE 47: 22.374167008156334\n",
      "10/10 [==============================] - 0s 2ms/step\n",
      "MSE 48: 23.275913957318984\n",
      "10/10 [==============================] - 0s 2ms/step\n",
      "MSE 49: 24.797466160265138\n",
      "10/10 [==============================] - 0s 2ms/step\n",
      "MSE 50: 20.71745335470881\n"
     ]
    }
   ],
   "source": [
    "total_mean_squared_errors = 50\n",
    "mean_squared_errors = []\n",
    "for i in range(0, total_mean_squared_errors):\n",
    "    X_train, X_test, y_train, y_test = train_test_split(pred_norm, target, test_size=0.3, random_state=i)\n",
    "    model_D.fit(X_train, y_train, epochs=50, verbose=0)\n",
    "    y_pred = model_D.predict(X_test)\n",
    "    MSE = mean_squared_error(y_test, y_pred)\n",
    "    print(\"MSE \"+str(i+1)+\": \"+str(MSE))\n",
    "    mean_squared_errors.append(MSE)\n",
    "\n",
    "mean_squared_errors = np.array(mean_squared_errors)\n",
    "mean_norm_D = np.mean(mean_squared_errors)\n",
    "sd_norm_D = np.std(mean_squared_errors)"
   ]
  },
  {
   "cell_type": "code",
   "execution_count": 46,
   "id": "f6bf1dbb",
   "metadata": {},
   "outputs": [
    {
     "name": "stdout",
     "output_type": "stream",
     "text": [
      "Mean and standard deviation of 50 mean squared errors with normalized data. \n",
      "\n",
      "Mean: 32.6687230644923\n",
      "Standard Deviation: 14.927235595280033\n"
     ]
    }
   ],
   "source": [
    "print(\"Mean and standard deviation of \" +str(total_mean_squared_errors) + \" mean squared errors with normalized data. \\n\")\n",
    "print(\"Mean: \"+str(mean_norm_D))\n",
    "print(\"Standard Deviation: \"+str(sd_norm_D))"
   ]
  },
  {
   "cell_type": "code",
   "execution_count": 47,
   "id": "40804c59",
   "metadata": {},
   "outputs": [
    {
     "name": "stdout",
     "output_type": "stream",
     "text": [
      "\n",
      "A\n",
      "Mean MSE:  78.64973076542557\n",
      "Standard deviation of MSE:  38.43854379772562\n",
      "\n",
      "B\n",
      "Mean MSE (normalized data):  43.501453884935955\n",
      "Standard deviation of MSE (normalized data):  26.32136521998758\n",
      "\n",
      "C\n",
      "Mean MSE (normalized data, 100 epochs):  36.794924784576345\n",
      "Standard deviation of MSE (normalized data, 100 epochs):  10.130921102271454\n",
      "\n",
      "D\n",
      "Mean MSE (normalized data, 3 hidden layers):  32.6687230644923\n",
      "Standard deviation of MSE (normalized data, 3 hidden layers):  14.927235595280033\n"
     ]
    }
   ],
   "source": [
    "print('\\nA')\n",
    "print('Mean MSE: ', mean)\n",
    "print('Standard deviation of MSE: ', sd)\n",
    "\n",
    "print('\\nB')\n",
    "print('Mean MSE (normalized data): ', mean_norm)\n",
    "print('Standard deviation of MSE (normalized data): ', sd_norm)\n",
    "\n",
    "print('\\nC')\n",
    "print('Mean MSE (normalized data, 100 epochs): ', mean_norm_C)\n",
    "print('Standard deviation of MSE (normalized data, 100 epochs): ', sd_norm_C)\n",
    "\n",
    "print('\\nD')\n",
    "print('Mean MSE (normalized data, 3 hidden layers): ', mean_norm_D)\n",
    "print('Standard deviation of MSE (normalized data, 3 hidden layers): ', sd_norm_D)"
   ]
  },
  {
   "cell_type": "code",
   "execution_count": null,
   "id": "70200bc0",
   "metadata": {},
   "outputs": [],
   "source": []
  }
 ],
 "metadata": {
  "kernelspec": {
   "display_name": "Python 3 (ipykernel)",
   "language": "python",
   "name": "python3"
  },
  "language_info": {
   "codemirror_mode": {
    "name": "ipython",
    "version": 3
   },
   "file_extension": ".py",
   "mimetype": "text/x-python",
   "name": "python",
   "nbconvert_exporter": "python",
   "pygments_lexer": "ipython3",
   "version": "3.11.3"
  }
 },
 "nbformat": 4,
 "nbformat_minor": 5
}
